{
 "cells": [
  {
   "cell_type": "markdown",
   "metadata": {},
   "source": [
    "#  ПРОГНОЗИРОВАНИЕ ЗАКАЗОВ ТАКСИ"
   ]
  },
  {
   "cell_type": "markdown",
   "metadata": {},
   "source": [
    "# Краткое описание проекта."
   ]
  },
  {
   "cell_type": "markdown",
   "metadata": {},
   "source": [
    "Компания «Чётенькое такси» собрала исторические данные о заказах такси в аэропортах. Данные лежат в файле `taxi.csv`. Количество заказов находится в столбце `num_orders` (от англ. *number of orders*, «число заказов»).Чтобы привлекать больше водителей в период пиковой нагрузки, нужно спрогнозировать количество заказов такси на следующий час. "
   ]
  },
  {
   "cell_type": "markdown",
   "metadata": {},
   "source": [
    "# Цель проекта."
   ]
  },
  {
   "cell_type": "markdown",
   "metadata": {},
   "source": [
    "Построить модель для такого предсказания.\n",
    "Значение метрики *RMSE* на тестовой выборке должно быть не больше 48."
   ]
  },
  {
   "cell_type": "markdown",
   "metadata": {},
   "source": [
    "# План проекта."
   ]
  },
  {
   "cell_type": "markdown",
   "metadata": {},
   "source": [
    "- Изучение и подготовка данных.\n",
    "- Анализ данных.\n",
    "- Обучение нескольких моделей.\n",
    "- Тестирование лучшей модели.\n",
    "- Общий вывод."
   ]
  },
  {
   "cell_type": "markdown",
   "metadata": {},
   "source": [
    "## Изучение и подготовка данных."
   ]
  },
  {
   "cell_type": "markdown",
   "metadata": {},
   "source": [
    "Импортируем все необходмые для исследования библиотеки и метрики."
   ]
  },
  {
   "cell_type": "code",
   "execution_count": 1,
   "metadata": {},
   "outputs": [],
   "source": [
    "import numpy as np\n",
    "import pandas as pd\n",
    "import matplotlib.pyplot as plt \n",
    "import seaborn as sns\n",
    "\n",
    "from sklearn.model_selection import cross_val_score, GridSearchCV , train_test_split, TimeSeriesSplit \n",
    "from statsmodels.tsa.seasonal import seasonal_decompose\n",
    "from sklearn.metrics import make_scorer, mean_squared_error \n",
    "from sklearn.linear_model import LinearRegression,Ridge,Lasso\n",
    "from catboost import CatBoostRegressor\n",
    "from statsmodels.tsa.stattools import adfuller\n",
    "from statsmodels.graphics import tsaplots\n",
    "import warnings \n",
    "warnings.filterwarnings('ignore')"
   ]
  },
  {
   "cell_type": "markdown",
   "metadata": {},
   "source": [
    "Считаем данные из csv-файла в датафрейм и сохраним в переменной data. Назначим первый столбец в качестве индекса.Выведем первые 5 строчек датафрейма на экран."
   ]
  },
  {
   "cell_type": "code",
   "execution_count": 2,
   "metadata": {
    "scrolled": false
   },
   "outputs": [
    {
     "data": {
      "text/html": [
       "<div>\n",
       "<style scoped>\n",
       "    .dataframe tbody tr th:only-of-type {\n",
       "        vertical-align: middle;\n",
       "    }\n",
       "\n",
       "    .dataframe tbody tr th {\n",
       "        vertical-align: top;\n",
       "    }\n",
       "\n",
       "    .dataframe thead th {\n",
       "        text-align: right;\n",
       "    }\n",
       "</style>\n",
       "<table border=\"1\" class=\"dataframe\">\n",
       "  <thead>\n",
       "    <tr style=\"text-align: right;\">\n",
       "      <th></th>\n",
       "      <th>num_orders</th>\n",
       "    </tr>\n",
       "    <tr>\n",
       "      <th>datetime</th>\n",
       "      <th></th>\n",
       "    </tr>\n",
       "  </thead>\n",
       "  <tbody>\n",
       "    <tr>\n",
       "      <th>2018-03-01 00:00:00</th>\n",
       "      <td>9</td>\n",
       "    </tr>\n",
       "    <tr>\n",
       "      <th>2018-03-01 00:10:00</th>\n",
       "      <td>14</td>\n",
       "    </tr>\n",
       "    <tr>\n",
       "      <th>2018-03-01 00:20:00</th>\n",
       "      <td>28</td>\n",
       "    </tr>\n",
       "    <tr>\n",
       "      <th>2018-03-01 00:30:00</th>\n",
       "      <td>20</td>\n",
       "    </tr>\n",
       "    <tr>\n",
       "      <th>2018-03-01 00:40:00</th>\n",
       "      <td>32</td>\n",
       "    </tr>\n",
       "  </tbody>\n",
       "</table>\n",
       "</div>"
      ],
      "text/plain": [
       "                     num_orders\n",
       "datetime                       \n",
       "2018-03-01 00:00:00           9\n",
       "2018-03-01 00:10:00          14\n",
       "2018-03-01 00:20:00          28\n",
       "2018-03-01 00:30:00          20\n",
       "2018-03-01 00:40:00          32"
      ]
     },
     "execution_count": 2,
     "metadata": {},
     "output_type": "execute_result"
    }
   ],
   "source": [
    "data = pd.read_csv('/datasets/taxi.csv', index_col=[0], parse_dates=[0])\n",
    "data.head()"
   ]
  },
  {
   "cell_type": "markdown",
   "metadata": {},
   "source": [
    "**интервал временного ряда составляет 10 минут.**"
   ]
  },
  {
   "cell_type": "markdown",
   "metadata": {},
   "source": [
    "Выведем общую информацию по датафрейму"
   ]
  },
  {
   "cell_type": "code",
   "execution_count": 3,
   "metadata": {
    "scrolled": true
   },
   "outputs": [
    {
     "name": "stdout",
     "output_type": "stream",
     "text": [
      "<class 'pandas.core.frame.DataFrame'>\n",
      "DatetimeIndex: 26496 entries, 2018-03-01 00:00:00 to 2018-08-31 23:50:00\n",
      "Data columns (total 1 columns):\n",
      " #   Column      Non-Null Count  Dtype\n",
      "---  ------      --------------  -----\n",
      " 0   num_orders  26496 non-null  int64\n",
      "dtypes: int64(1)\n",
      "memory usage: 414.0 KB\n"
     ]
    }
   ],
   "source": [
    "data.info()"
   ]
  },
  {
   "cell_type": "markdown",
   "metadata": {},
   "source": [
    "Отсортируем индекс таблицы."
   ]
  },
  {
   "cell_type": "code",
   "execution_count": 4,
   "metadata": {},
   "outputs": [],
   "source": [
    "data.sort_index(inplace=True)"
   ]
  },
  {
   "cell_type": "markdown",
   "metadata": {},
   "source": [
    "Проверим в хронологическом ли порядке расположены даты и время. Воспользуемся функцией is_monotonic."
   ]
  },
  {
   "cell_type": "code",
   "execution_count": 5,
   "metadata": {
    "scrolled": false
   },
   "outputs": [
    {
     "data": {
      "text/plain": [
       "True"
      ]
     },
     "metadata": {},
     "output_type": "display_data"
    }
   ],
   "source": [
    "display(data.index.is_monotonic)"
   ]
  },
  {
   "cell_type": "markdown",
   "metadata": {},
   "source": [
    "Поменяем интервал временного ряда.Согласно заданию выполним ресемплирование по одному часу. После группировки вызовем функции sum() для агрегации значений. Построим график."
   ]
  },
  {
   "cell_type": "code",
   "execution_count": 6,
   "metadata": {
    "scrolled": true
   },
   "outputs": [
    {
     "data": {
      "image/png": "[encoded data removed]",
      "text/plain": [
       "<Figure size 432x288 with 1 Axes>"
      ]
     },
     "metadata": {
      "needs_background": "light"
     },
     "output_type": "display_data"
    }
   ],
   "source": [
    "data = data.resample('1H').sum()\n",
    "data.plot()\n",
    "plt.title(\"Распределение заказов по месяцам\")\n",
    "plt.xlabel(\"Месяцы\")\n",
    "plt.ylabel(\"Количество заказов\");"
   ]
  },
  {
   "cell_type": "markdown",
   "metadata": {},
   "source": [
    "**Выводы:**\n",
    "- датафрейм состоит из двух столбцов:datetime(дата и время) и num_orders(количество заказов). Целевым признаком является столбец с количеством заказов.\n",
    "- данные собраны за 6 месяцев с 00:00:00 1 марта 2018 года по 23:30:00 31 августа 2018 года.\n",
    "- интервал временного ряда составляет 10 минут."
   ]
  },
  {
   "cell_type": "markdown",
   "metadata": {},
   "source": [
    "## Анализ"
   ]
  },
  {
   "cell_type": "markdown",
   "metadata": {},
   "source": [
    "**Чтобы лучше понимать временной ряд, разберём тренды и сезонность.**"
   ]
  },
  {
   "cell_type": "markdown",
   "metadata": {},
   "source": [
    "Разложим временной ряд на тренд и сезонную компоненту"
   ]
  },
  {
   "cell_type": "code",
   "execution_count": 7,
   "metadata": {
    "scrolled": false
   },
   "outputs": [
    {
     "data": {
      "image/png": "[encoded data removed]",
      "text/plain": [
       "<Figure size 1080x720 with 3 Axes>"
      ]
     },
     "metadata": {
      "needs_background": "light"
     },
     "output_type": "display_data"
    }
   ],
   "source": [
    "decomposed = seasonal_decompose(data)\n",
    "\n",
    "plt.figure(figsize=(15, 10))\n",
    "plt.subplot(311)\n",
    "decomposed.trend.plot(ax=plt.gca())\n",
    "plt.title('Trend')\n",
    "plt.subplot(312)\n",
    "decomposed.seasonal.plot(ax=plt.gca())\n",
    "plt.title('Seasonality')\n",
    "plt.subplot(313)\n",
    "decomposed.resid.plot(ax=plt.gca())\n",
    "plt.title('Residuals')\n",
    "plt.tight_layout()\n"
   ]
  },
  {
   "cell_type": "markdown",
   "metadata": {},
   "source": [
    "**Со временем количество заказов растет. Связываю это с тем, что бизнес развивается и дела идут в гору.Сезонность мы посмотреть не может, так как данные собраны только за полгода.\n",
    "В целом графики плохо читаемые, слишком высокая частота. Зададим интервал в 15 дней и посмотрим на них снова.**"
   ]
  },
  {
   "cell_type": "markdown",
   "metadata": {},
   "source": [
    "Взглянем на суточную сезонность. Возьмем данные за пару дней."
   ]
  },
  {
   "cell_type": "code",
   "execution_count": 8,
   "metadata": {
    "scrolled": true
   },
   "outputs": [
    {
     "data": {
      "image/png": "[encoded data removed]",
      "text/plain": [
       "<Figure size 1080x720 with 3 Axes>"
      ]
     },
     "metadata": {
      "needs_background": "light"
     },
     "output_type": "display_data"
    }
   ],
   "source": [
    "decomposed_1 = seasonal_decompose(data['2018-07-01':'2018-07-03'])\n",
    "\n",
    "plt.figure(figsize=(15, 10))\n",
    "\n",
    "plt.subplot(311)\n",
    "decomposed_1.trend.plot(ax=plt.gca())\n",
    "plt.title('Trend')\n",
    "\n",
    "plt.subplot(312)\n",
    "decomposed_1.seasonal.plot(ax=plt.gca())\n",
    "plt.title('Seasonality')\n",
    "\n",
    "plt.subplot(313)\n",
    "decomposed_1.resid.plot(ax=plt.gca())\n",
    "plt.title('Residuals')\n",
    "plt.tight_layout()"
   ]
  },
  {
   "cell_type": "markdown",
   "metadata": {},
   "source": [
    "По графику сезонности отлично видно, что пики вызовов такси приходятся на ночные часы, а спад наблюдается в районе 9-10 часов,когда начинается рабочий день."
   ]
  },
  {
   "cell_type": "markdown",
   "metadata": {},
   "source": [
    "Возьмем данные с 1 по 15 июля."
   ]
  },
  {
   "cell_type": "code",
   "execution_count": 9,
   "metadata": {
    "scrolled": false
   },
   "outputs": [
    {
     "data": {
      "image/png": "[encoded data removed]",
      "text/plain": [
       "<Figure size 1080x720 with 3 Axes>"
      ]
     },
     "metadata": {
      "needs_background": "light"
     },
     "output_type": "display_data"
    }
   ],
   "source": [
    "decomposed_2 = seasonal_decompose(data['2018-07-01':'2018-07-15'])\n",
    "\n",
    "plt.figure(figsize=(15, 10))\n",
    "\n",
    "plt.subplot(311)\n",
    "decomposed_2.trend.plot(ax=plt.gca())\n",
    "plt.title('Trend')\n",
    "\n",
    "plt.subplot(312)\n",
    "decomposed_2.seasonal.plot(ax=plt.gca())\n",
    "plt.title('Seasonality')\n",
    "\n",
    "plt.subplot(313)\n",
    "decomposed_2.resid.plot(ax=plt.gca())\n",
    "plt.title('Residuals')\n",
    "plt.tight_layout()"
   ]
  },
  {
   "cell_type": "markdown",
   "metadata": {},
   "source": [
    "**Четко просматриваются всплески по заказам в выходные дни.**"
   ]
  },
  {
   "cell_type": "markdown",
   "metadata": {},
   "source": [
    "Воспользуемся тестом Дики-Фуллера для того, чтобы определить, приводим ли наш ряд к стационарному.Если значение с индексом 1 меньше P-Value, заданное нами (обычно берут 0.05), то ряд стационарный"
   ]
  },
  {
   "cell_type": "code",
   "execution_count": 10,
   "metadata": {},
   "outputs": [
    {
     "name": "stdout",
     "output_type": "stream",
     "text": [
      "Наш ряд стационарный\n"
     ]
    }
   ],
   "source": [
    "ts = data['num_orders']\n",
    "st_test = adfuller(ts, regression='ctt')\n",
    "\n",
    "if st_test[1] < 0.05:\n",
    "    print('Наш ряд стационарный')\n",
    "else:\n",
    "    print('Ряд нестационарный')\n",
    "\n"
   ]
  },
  {
   "cell_type": "markdown",
   "metadata": {},
   "source": [
    "## Обучение"
   ]
  },
  {
   "cell_type": "markdown",
   "metadata": {},
   "source": [
    "Для начала создадим признаки для горизонта прогнозирования в один шаг.\n",
    "Напишем функцию для создания календарных признаков,вычислим отстающие значения и скользящее среднее."
   ]
  },
  {
   "cell_type": "code",
   "execution_count": 11,
   "metadata": {},
   "outputs": [],
   "source": [
    "def make_features(data, max_lag, rolling_mean_size):\n",
    "    data['day'] = data.index.day\n",
    "    data['dayofweek'] = data.index.dayofweek\n",
    "    data['hour'] = data.index.hour\n",
    "    \n",
    "    for lag in range(1, max_lag + 1):\n",
    "        data['lag_{}'.format(lag)] = data['num_orders'].shift(lag)\n",
    "\n",
    "    data['rolling_mean'] = data['num_orders'].shift().rolling(rolling_mean_size).mean()\n",
    "\n",
    "\n",
    "make_features(data, 168, 24)"
   ]
  },
  {
   "cell_type": "code",
   "execution_count": 12,
   "metadata": {},
   "outputs": [
    {
     "data": {
      "image/png": "[encoded data removed]",
      "text/plain": [
       "<Figure size 1332x432 with 1 Axes>"
      ]
     },
     "metadata": {
      "needs_background": "light"
     },
     "output_type": "display_data"
    }
   ],
   "source": [
    "fig = tsaplots.plot_acf(ts,lags= 190)\n",
    "fig.set_size_inches(18.5, 6)\n",
    "plt.ylim(-.1, 1.1)\n",
    "plt.show() "
   ]
  },
  {
   "cell_type": "markdown",
   "metadata": {},
   "source": [
    "Разделим данные на обучающую и тестовую выборки. Отстающие значения и скользящее среднее вычисляются по прошлым данным. Признаки для первых значений тестовой выборки находятся в конце обучающей выборки.\n",
    "Получить признаки для первых значений обучающей выборки нельзя: исторических данных по ним нет. В предыдущих задачах значения этих признаков были NaN. Их нужно удалить."
   ]
  },
  {
   "cell_type": "code",
   "execution_count": 13,
   "metadata": {},
   "outputs": [],
   "source": [
    "train, test = train_test_split(data, shuffle=False, test_size=0.1)\n",
    "train = train.dropna()"
   ]
  },
  {
   "cell_type": "markdown",
   "metadata": {},
   "source": [
    "Выделим признаки и целевой признак."
   ]
  },
  {
   "cell_type": "code",
   "execution_count": 14,
   "metadata": {},
   "outputs": [],
   "source": [
    "features_train = train.drop(['num_orders'],axis=1)# < напишите код здесь >\n",
    "target_train = train['num_orders']\n",
    "features_test = test.drop(['num_orders'],axis=1)\n",
    "target_test = test['num_orders']"
   ]
  },
  {
   "cell_type": "markdown",
   "metadata": {},
   "source": [
    "Напишем функцию для вычисления RMSE. В дальнейшем будем её применять в моделях машинного обучения."
   ]
  },
  {
   "cell_type": "code",
   "execution_count": 15,
   "metadata": {},
   "outputs": [],
   "source": [
    "def rmse(target, predict):\n",
    "    return (mean_squared_error(target, predict))**0.5\n",
    "   \n",
    "#С помощию функции make_scorer создаю метрику RMSE\n",
    "rmse_score = make_scorer(rmse, greater_is_better=False)"
   ]
  },
  {
   "cell_type": "markdown",
   "metadata": {},
   "source": [
    "**Рассмотрим несколько моделей машинного обучения:**\n",
    "- Линейную регрессию.\n",
    "- Ridge.\n",
    "- Lasso.\n",
    "- CatBoostRegressor.\n",
    "\n",
    "**Вычислим для каждой метрику RMSE и время обучения и предсказания модели. По этим данным будем выбирать лучшую модель.**"
   ]
  },
  {
   "cell_type": "markdown",
   "metadata": {},
   "source": [
    "### Линейная регрессия."
   ]
  },
  {
   "cell_type": "code",
   "execution_count": 16,
   "metadata": {
    "scrolled": true
   },
   "outputs": [
    {
     "name": "stdout",
     "output_type": "stream",
     "text": [
      "RMSE для линейной регрессии: 23.077379405855833\n",
      "CPU times: user 425 ms, sys: 887 ms, total: 1.31 s\n",
      "Wall time: 1.28 s\n"
     ]
    }
   ],
   "source": [
    "%%time\n",
    "\n",
    "tss = TimeSeriesSplit(n_splits=3)\n",
    "model_lin = LinearRegression()\n",
    "model_lin.fit(features_train, target_train)\n",
    "rmse = cross_val_score(model_lin,features_train,target_train,scoring=rmse_score,cv=tss).mean()\n",
    "print('RMSE для линейной регрессии:', -rmse)"
   ]
  },
  {
   "cell_type": "markdown",
   "metadata": {},
   "source": [
    "### Ridge."
   ]
  },
  {
   "cell_type": "code",
   "execution_count": 17,
   "metadata": {
    "scrolled": true
   },
   "outputs": [
    {
     "name": "stdout",
     "output_type": "stream",
     "text": [
      "Лучшее RMSE для Ridge: 23.077373637482975 с гиперпараметрами: {'alpha': 20}\n",
      "CPU times: user 945 ms, sys: 2.36 s, total: 3.31 s\n",
      "Wall time: 3.31 s\n"
     ]
    }
   ],
   "source": [
    "%%time\n",
    "\n",
    "tss = TimeSeriesSplit(n_splits=3)\n",
    "model_ridge = Ridge()\n",
    "params_grid_rid = {'alpha':[1, 5, 10, 20]\n",
    "             }\n",
    "ridge_grid = GridSearchCV(model_ridge, params_grid_rid, scoring=rmse_score, cv=tss)\n",
    "ridge_grid.fit(features_train, target_train)\n",
    "print('Лучшее RMSE для Ridge:',-ridge_grid.best_score_, 'с гиперпараметрами:', ridge_grid.best_params_)"
   ]
  },
  {
   "cell_type": "markdown",
   "metadata": {},
   "source": [
    "### Lasso."
   ]
  },
  {
   "cell_type": "code",
   "execution_count": 18,
   "metadata": {},
   "outputs": [
    {
     "name": "stdout",
     "output_type": "stream",
     "text": [
      "Лучшее RMSE для Ridge: 22.341867335916547 с гиперпараметрами: {'alpha': 20}\n",
      "CPU times: user 1.78 s, sys: 3.74 s, total: 5.52 s\n",
      "Wall time: 5.59 s\n"
     ]
    }
   ],
   "source": [
    "%%time\n",
    "\n",
    "tss = TimeSeriesSplit(n_splits=3)\n",
    "model_lasso = Lasso()\n",
    "params_grid_rid = {'alpha':[1, 5, 10, 20]\n",
    "             }\n",
    "lasso_grid = GridSearchCV(model_lasso, params_grid_rid, scoring=rmse_score, cv=tss)\n",
    "lasso_grid.fit(features_train, target_train)\n",
    "print('Лучшее RMSE для Ridge:',-lasso_grid.best_score_, 'с гиперпараметрами:', lasso_grid.best_params_)"
   ]
  },
  {
   "cell_type": "markdown",
   "metadata": {},
   "source": [
    "### CatBoostRegressor."
   ]
  },
  {
   "cell_type": "code",
   "execution_count": 19,
   "metadata": {
    "scrolled": false
   },
   "outputs": [
    {
     "name": "stdout",
     "output_type": "stream",
     "text": [
      "0:\tlearn: 28.9747894\ttotal: 59.4ms\tremaining: 59.4s\n",
      "200:\tlearn: 12.8529332\ttotal: 1.96s\tremaining: 7.78s\n",
      "400:\tlearn: 9.4693175\ttotal: 3.83s\tremaining: 5.72s\n",
      "600:\tlearn: 7.1532946\ttotal: 5.79s\tremaining: 3.85s\n",
      "800:\tlearn: 5.3720089\ttotal: 7.79s\tremaining: 1.94s\n",
      "999:\tlearn: 4.0372075\ttotal: 9.79s\tremaining: 0us\n",
      "0:\tlearn: 32.2922689\ttotal: 19ms\tremaining: 19s\n",
      "200:\tlearn: 15.2761730\ttotal: 2.58s\tremaining: 10.2s\n",
      "400:\tlearn: 12.8623586\ttotal: 5.2s\tremaining: 7.76s\n",
      "600:\tlearn: 10.9875493\ttotal: 7.59s\tremaining: 5.04s\n",
      "800:\tlearn: 9.4747090\ttotal: 9.9s\tremaining: 2.46s\n",
      "999:\tlearn: 8.2222844\ttotal: 12.2s\tremaining: 0us\n",
      "0:\tlearn: 33.1401755\ttotal: 15.5ms\tremaining: 15.5s\n",
      "200:\tlearn: 16.8976607\ttotal: 2.65s\tremaining: 10.5s\n",
      "400:\tlearn: 14.8387912\ttotal: 5.33s\tremaining: 7.95s\n",
      "600:\tlearn: 13.2815798\ttotal: 7.94s\tremaining: 5.27s\n",
      "800:\tlearn: 11.9332881\ttotal: 10.6s\tremaining: 2.63s\n",
      "999:\tlearn: 10.7686045\ttotal: 13.3s\tremaining: 0us\n",
      "0:\tlearn: 28.3136058\ttotal: 10.7ms\tremaining: 10.7s\n",
      "200:\tlearn: 9.3334734\ttotal: 2.07s\tremaining: 8.23s\n",
      "400:\tlearn: 5.3122333\ttotal: 4.07s\tremaining: 6.08s\n",
      "600:\tlearn: 3.1210868\ttotal: 6.13s\tremaining: 4.07s\n",
      "800:\tlearn: 1.8661782\ttotal: 8.12s\tremaining: 2.02s\n",
      "999:\tlearn: 1.1458566\ttotal: 10.2s\tremaining: 0us\n",
      "0:\tlearn: 31.5393538\ttotal: 12.7ms\tremaining: 12.7s\n",
      "200:\tlearn: 12.8915033\ttotal: 2.4s\tremaining: 9.55s\n",
      "400:\tlearn: 9.5596660\ttotal: 4.76s\tremaining: 7.11s\n",
      "600:\tlearn: 7.2025074\ttotal: 7.13s\tremaining: 4.73s\n",
      "800:\tlearn: 5.4749050\ttotal: 9.72s\tremaining: 2.42s\n",
      "999:\tlearn: 4.1932340\ttotal: 12.3s\tremaining: 0us\n",
      "0:\tlearn: 32.3762631\ttotal: 13.7ms\tremaining: 13.7s\n",
      "200:\tlearn: 14.8820194\ttotal: 2.77s\tremaining: 11s\n",
      "400:\tlearn: 11.9749791\ttotal: 5.55s\tremaining: 8.3s\n",
      "600:\tlearn: 9.7430505\ttotal: 8.4s\tremaining: 5.58s\n",
      "800:\tlearn: 7.9943434\ttotal: 11.3s\tremaining: 2.81s\n",
      "999:\tlearn: 6.6648244\ttotal: 14.2s\tremaining: 0us\n",
      "0:\tlearn: 29.0103602\ttotal: 40.7ms\tremaining: 40.7s\n",
      "200:\tlearn: 10.3446498\ttotal: 5.52s\tremaining: 21.9s\n",
      "400:\tlearn: 5.9420182\ttotal: 10.9s\tremaining: 16.3s\n",
      "600:\tlearn: 3.4461646\ttotal: 16.2s\tremaining: 10.7s\n",
      "800:\tlearn: 1.9907706\ttotal: 21.5s\tremaining: 5.35s\n",
      "999:\tlearn: 1.2061699\ttotal: 26.7s\tremaining: 0us\n",
      "0:\tlearn: 32.3015289\ttotal: 48.9ms\tremaining: 48.8s\n",
      "200:\tlearn: 13.3780825\ttotal: 6.48s\tremaining: 25.8s\n",
      "400:\tlearn: 9.8633102\ttotal: 13s\tremaining: 19.5s\n",
      "600:\tlearn: 7.4686495\ttotal: 19.8s\tremaining: 13.1s\n",
      "800:\tlearn: 5.6125197\ttotal: 26.6s\tremaining: 6.61s\n",
      "999:\tlearn: 4.1985880\ttotal: 33.3s\tremaining: 0us\n",
      "0:\tlearn: 33.1219141\ttotal: 51.4ms\tremaining: 51.3s\n",
      "200:\tlearn: 15.2488898\ttotal: 7.33s\tremaining: 29.1s\n",
      "400:\tlearn: 12.1650932\ttotal: 14.5s\tremaining: 21.7s\n",
      "600:\tlearn: 9.9545879\ttotal: 21.9s\tremaining: 14.6s\n",
      "800:\tlearn: 8.1065456\ttotal: 29.1s\tremaining: 7.23s\n",
      "999:\tlearn: 6.6310982\ttotal: 36.2s\tremaining: 0us\n",
      "0:\tlearn: 28.3813237\ttotal: 38.4ms\tremaining: 38.4s\n",
      "200:\tlearn: 6.0140994\ttotal: 5.44s\tremaining: 21.6s\n",
      "400:\tlearn: 2.2414662\ttotal: 10.9s\tremaining: 16.3s\n",
      "600:\tlearn: 0.8665593\ttotal: 16.3s\tremaining: 10.8s\n",
      "800:\tlearn: 0.3166998\ttotal: 21.8s\tremaining: 5.41s\n",
      "999:\tlearn: 0.1167082\ttotal: 27.1s\tremaining: 0us\n",
      "0:\tlearn: 31.5563210\ttotal: 59.2ms\tremaining: 59.2s\n",
      "200:\tlearn: 10.1014103\ttotal: 6.71s\tremaining: 26.7s\n",
      "400:\tlearn: 5.5043818\ttotal: 13.2s\tremaining: 19.7s\n",
      "600:\tlearn: 3.0488966\ttotal: 19.7s\tremaining: 13.1s\n",
      "800:\tlearn: 1.7281859\ttotal: 26.2s\tremaining: 6.52s\n",
      "999:\tlearn: 1.0028599\ttotal: 32.9s\tremaining: 0us\n",
      "0:\tlearn: 32.3386013\ttotal: 53.9ms\tremaining: 53.9s\n",
      "200:\tlearn: 11.9471769\ttotal: 7.39s\tremaining: 29.4s\n",
      "400:\tlearn: 7.9394634\ttotal: 14.9s\tremaining: 22.2s\n",
      "600:\tlearn: 5.3824983\ttotal: 22.5s\tremaining: 14.9s\n",
      "800:\tlearn: 3.6582713\ttotal: 30.2s\tremaining: 7.51s\n",
      "999:\tlearn: 2.5224855\ttotal: 37.9s\tremaining: 0us\n",
      "0:\tlearn: 29.0930563\ttotal: 236ms\tremaining: 3m 56s\n",
      "200:\tlearn: 4.8272777\ttotal: 46.9s\tremaining: 3m 6s\n",
      "400:\tlearn: 1.4104773\ttotal: 1m 33s\tremaining: 2m 19s\n",
      "600:\tlearn: 0.4151605\ttotal: 2m 20s\tremaining: 1m 33s\n",
      "800:\tlearn: 0.1250220\ttotal: 3m 8s\tremaining: 46.7s\n",
      "999:\tlearn: 0.0409244\ttotal: 3m 55s\tremaining: 0us\n",
      "0:\tlearn: 32.2461173\ttotal: 305ms\tremaining: 5m 4s\n",
      "200:\tlearn: 8.0812404\ttotal: 57.9s\tremaining: 3m 50s\n",
      "400:\tlearn: 3.6256166\ttotal: 1m 56s\tremaining: 2m 53s\n",
      "600:\tlearn: 1.6621122\ttotal: 2m 54s\tremaining: 1m 55s\n",
      "800:\tlearn: 0.7482362\ttotal: 3m 53s\tremaining: 57.9s\n",
      "999:\tlearn: 0.3399988\ttotal: 4m 51s\tremaining: 0us\n",
      "0:\tlearn: 33.0714459\ttotal: 304ms\tremaining: 5m 3s\n",
      "200:\tlearn: 10.0196726\ttotal: 1m 3s\tremaining: 4m 12s\n",
      "400:\tlearn: 5.6079721\ttotal: 2m 6s\tremaining: 3m 8s\n",
      "600:\tlearn: 3.0728179\ttotal: 3m 10s\tremaining: 2m 6s\n",
      "800:\tlearn: 1.6835629\ttotal: 4m 14s\tremaining: 1m 3s\n",
      "999:\tlearn: 0.9619564\ttotal: 5m 20s\tremaining: 0us\n",
      "0:\tlearn: 28.5392313\ttotal: 253ms\tremaining: 4m 13s\n",
      "200:\tlearn: 1.4651422\ttotal: 46.2s\tremaining: 3m 3s\n",
      "400:\tlearn: 0.1255966\ttotal: 1m 30s\tremaining: 2m 14s\n",
      "600:\tlearn: 0.0094710\ttotal: 2m 15s\tremaining: 1m 29s\n",
      "800:\tlearn: 0.0008830\ttotal: 2m 59s\tremaining: 44.6s\n",
      "999:\tlearn: 0.0000789\ttotal: 3m 44s\tremaining: 0us\n",
      "0:\tlearn: 31.4430066\ttotal: 275ms\tremaining: 4m 34s\n",
      "200:\tlearn: 3.7468089\ttotal: 54.2s\tremaining: 3m 35s\n",
      "400:\tlearn: 0.7730932\ttotal: 1m 47s\tremaining: 2m 41s\n",
      "600:\tlearn: 0.1427882\ttotal: 2m 41s\tremaining: 1m 47s\n",
      "800:\tlearn: 0.0327185\ttotal: 3m 35s\tremaining: 53.5s\n",
      "999:\tlearn: 0.0067837\ttotal: 4m 28s\tremaining: 0us\n",
      "0:\tlearn: 32.2329428\ttotal: 288ms\tremaining: 4m 48s\n",
      "200:\tlearn: 5.6890135\ttotal: 1m\tremaining: 4m\n",
      "400:\tlearn: 1.8859728\ttotal: 2m 1s\tremaining: 3m 1s\n",
      "600:\tlearn: 0.5906268\ttotal: 3m 1s\tremaining: 2m\n",
      "800:\tlearn: 0.2013642\ttotal: 4m 2s\tremaining: 1m\n",
      "999:\tlearn: 0.0654970\ttotal: 5m 2s\tremaining: 0us\n",
      "0:\tlearn: 37.6673904\ttotal: 16.7ms\tremaining: 16.7s\n",
      "200:\tlearn: 19.1259779\ttotal: 3.23s\tremaining: 12.8s\n",
      "400:\tlearn: 17.0623307\ttotal: 6.36s\tremaining: 9.49s\n",
      "600:\tlearn: 15.5555355\ttotal: 9.44s\tremaining: 6.27s\n",
      "800:\tlearn: 14.2002333\ttotal: 12.6s\tremaining: 3.13s\n",
      "999:\tlearn: 13.0530105\ttotal: 15.8s\tremaining: 0us\n",
      "Лучшее RMSE для CatBostRegressor: 23.63071591237268 с гиперпараметрами: {'depth': 4, 'learning_rate': 0.05}\n",
      "CPU times: user 32min 1s, sys: 5.73 s, total: 32min 7s\n",
      "Wall time: 32min 32s\n"
     ]
    }
   ],
   "source": [
    "%%time\n",
    "\n",
    "tss = TimeSeriesSplit(n_splits=3)\n",
    "model_cat = CatBoostRegressor()\n",
    "params_grid_cat = {'learning_rate': [0.05, 0.1],\n",
    "                   'depth': [4, 6, 10]\n",
    "                  }\n",
    "cat_grid = GridSearchCV(model_cat, params_grid_cat, scoring=rmse_score, cv=tss)\n",
    "cat_grid.fit(features_train, target_train, verbose=200)\n",
    "print('Лучшее RMSE для CatBostRegressor:',-cat_grid.best_score_, 'с гиперпараметрами:', cat_grid.best_params_)"
   ]
  },
  {
   "cell_type": "markdown",
   "metadata": {},
   "source": [
    " Сведём все вычисленные метрики в одну таблицу для наглядного представления."
   ]
  },
  {
   "cell_type": "code",
   "execution_count": 20,
   "metadata": {
    "scrolled": true
   },
   "outputs": [
    {
     "data": {
      "text/html": [
       "<div>\n",
       "<style scoped>\n",
       "    .dataframe tbody tr th:only-of-type {\n",
       "        vertical-align: middle;\n",
       "    }\n",
       "\n",
       "    .dataframe tbody tr th {\n",
       "        vertical-align: top;\n",
       "    }\n",
       "\n",
       "    .dataframe thead th {\n",
       "        text-align: right;\n",
       "    }\n",
       "</style>\n",
       "<table border=\"1\" class=\"dataframe\">\n",
       "  <thead>\n",
       "    <tr style=\"text-align: right;\">\n",
       "      <th></th>\n",
       "      <th>RMSE модели</th>\n",
       "    </tr>\n",
       "  </thead>\n",
       "  <tbody>\n",
       "    <tr>\n",
       "      <th>LinearRegression</th>\n",
       "      <td>23.077379</td>\n",
       "    </tr>\n",
       "    <tr>\n",
       "      <th>RidgeRegression</th>\n",
       "      <td>23.077374</td>\n",
       "    </tr>\n",
       "    <tr>\n",
       "      <th>LassoRegression</th>\n",
       "      <td>22.341867</td>\n",
       "    </tr>\n",
       "    <tr>\n",
       "      <th>CatBoostRegressor</th>\n",
       "      <td>23.630716</td>\n",
       "    </tr>\n",
       "  </tbody>\n",
       "</table>\n",
       "</div>"
      ],
      "text/plain": [
       "                   RMSE модели\n",
       "LinearRegression     23.077379\n",
       "RidgeRegression      23.077374\n",
       "LassoRegression      22.341867\n",
       "CatBoostRegressor    23.630716"
      ]
     },
     "execution_count": 20,
     "metadata": {},
     "output_type": "execute_result"
    }
   ],
   "source": [
    "index = ['LinearRegression',\n",
    "         'RidgeRegression',\n",
    "         'LassoRegression',\n",
    "         'CatBoostRegressor']\n",
    "data = {'RMSE модели':[-rmse,\n",
    "                       -ridge_grid.best_score_,\n",
    "                       -lasso_grid.best_score_,\n",
    "                       -cat_grid.best_score_]}\n",
    "\n",
    "data_new = pd.DataFrame(data=data, index=index)\n",
    "data_new"
   ]
  },
  {
   "cell_type": "markdown",
   "metadata": {},
   "source": [
    "**Лучший результат метрики RMSE показывает Lasso с результатом 22,34. Незначительно проигрывают ей сразу 2 модели: линейная регрессия и Ridge, у них результат по 23,07. Проигрывает всем CatBoostRegressor так же незначительно, уступив остальным с показателем 23,63. По времени обучения CatBoostRegressor проигрывает всем с треском(32мин 32 сек.).По времени Lasso уступаем двум другим незначительно. Исходя из вышеперечисленно лучшей определю модель Lasso,опираясь на результат RMSE. Именно её рекомендую к использованию.**"
   ]
  },
  {
   "cell_type": "markdown",
   "metadata": {},
   "source": [
    "## Тестирование"
   ]
  },
  {
   "cell_type": "markdown",
   "metadata": {},
   "source": [
    "Протестируем лучшую модель на тестовых данных.Ей я вляется модель lasso с гиперпараметром alpha=20."
   ]
  },
  {
   "cell_type": "code",
   "execution_count": 21,
   "metadata": {},
   "outputs": [
    {
     "name": "stdout",
     "output_type": "stream",
     "text": [
      "RMSE для Ridge на тестовой выборке: 46.469365386275854\n",
      "CPU times: user 1.1 s, sys: 3.32 s, total: 4.41 s\n",
      "Wall time: 4.39 s\n"
     ]
    }
   ],
   "source": [
    "%%time\n",
    "\n",
    "tss = TimeSeriesSplit(n_splits=3)\n",
    "model_lasso_test = Lasso()\n",
    "params_grid_rid_test = {'alpha':[20]\n",
    "             }\n",
    "lasso_grid_test = GridSearchCV(model_lasso, params_grid_rid, scoring=rmse_score, cv=tss)\n",
    "lasso_grid_test.fit(features_test, target_test)\n",
    "print('RMSE для Ridge на тестовой выборке:',-lasso_grid_test.best_score_)"
   ]
  },
  {
   "cell_type": "markdown",
   "metadata": {},
   "source": [
    "**Значение метрики RMSE на тестовой выборке 46,46. По заданию значение метрики RMSE на тестовой выборке должно быть не больше 48. Мы справились с этой задачей.**"
   ]
  },
  {
   "cell_type": "markdown",
   "metadata": {},
   "source": [
    "## Общий вывод."
   ]
  },
  {
   "cell_type": "markdown",
   "metadata": {},
   "source": [
    "Нам была поставлена задача- нужно спрогнозировать количество заказов такси на следующий час,чтобы привлекать больше водителей в период пиковой нагрузки.\n",
    "\n",
    "На этапе изучения и подготовки данных мы определили размерность исходной таблицы, интервал временного ряда,который составлял 10 минут и период, за который собраны данные.Он составил полгода. \n",
    "**Интервал временного ряда мы поменяли.** Согласно заданию выполнили ресемплирование **по одному часу.**\n",
    "\n",
    "На этапе анализа данных мы разложили временной ряд на **тренд и сезонную компоненту.** Сделали выводы, что со временем количество заказов **растет.** Затем из за высокой частотности данных, мы рассмотрели данные на небольшом периоде, который составил 2 дня с 1 по 3 июля и период в 2 недели с 1 по 15 июля.Сделали выводы, что **количество заказов растет на выходных днях и в ночные часы.** Сезонность мы посмотреть не можем, так как данные собраны за полгода. Так же проверили приводим ли наш ряд к стационарному при помощи теста Дики-Фуллера.\n",
    "\n",
    "На этапе обучения данных мы сначала подготовили данные для прогнозирования.Создали признаки для горизонта прогнозирования в один шаг. Написали функцию для создания календарных признаков. Разделили выборку на тренировочную и тестовую, которые в свою очередь раззделили на признаки и целевой признак. Далее выбрали несколько моделей машинного обучения для сравнения друг с другом. Какие модели были выбраны для исследования:\n",
    "- Линейную регрессию.\n",
    "- Ridge.\n",
    "- Lasso.\n",
    "- CatBoostRegressor.\n",
    "\n",
    "Лучшей моделью была признана **модель Lasso** с результатом метрики RMSE-**22,34** и временем обучения и предсказания в **5,59 сек.**\n",
    "\n",
    "На этапе тестирования модели проверили модель Lasso на тестовой выборки и достигли результата в **46,46** метрики RMSE, что ниже верхней границы по поставленной задаче в 48. "
   ]
  }
 ],
 "metadata": {
  "ExecuteTimeLog": [
   {
    "duration": 387,
    "start_time": "2023-05-11T11:08:50.040Z"
   },
   {
    "duration": 183,
    "start_time": "2023-05-11T11:09:20.264Z"
   },
   {
    "duration": 128,
    "start_time": "2023-05-11T11:09:57.390Z"
   },
   {
    "duration": 18,
    "start_time": "2023-05-11T11:16:50.872Z"
   },
   {
    "duration": 10,
    "start_time": "2023-05-11T11:18:29.666Z"
   },
   {
    "duration": 23,
    "start_time": "2023-05-11T11:20:28.943Z"
   },
   {
    "duration": 13,
    "start_time": "2023-05-11T11:20:47.244Z"
   },
   {
    "duration": 61,
    "start_time": "2023-05-11T11:21:36.991Z"
   },
   {
    "duration": 16,
    "start_time": "2023-05-11T11:21:40.922Z"
   },
   {
    "duration": 4474,
    "start_time": "2023-05-11T11:21:42.081Z"
   },
   {
    "duration": 0,
    "start_time": "2023-05-11T11:21:46.557Z"
   },
   {
    "duration": 63,
    "start_time": "2023-05-11T11:22:59.490Z"
   },
   {
    "duration": 12,
    "start_time": "2023-05-11T11:23:01.702Z"
   },
   {
    "duration": 2456,
    "start_time": "2023-05-11T11:23:02.895Z"
   },
   {
    "duration": 46,
    "start_time": "2023-05-11T11:23:23.517Z"
   },
   {
    "duration": 13,
    "start_time": "2023-05-11T11:23:24.679Z"
   },
   {
    "duration": 14,
    "start_time": "2023-05-11T11:23:25.617Z"
   },
   {
    "duration": 13,
    "start_time": "2023-05-11T11:23:26.815Z"
   },
   {
    "duration": 6,
    "start_time": "2023-05-11T11:24:56.834Z"
   },
   {
    "duration": 61,
    "start_time": "2023-05-11T11:24:57.374Z"
   },
   {
    "duration": 13,
    "start_time": "2023-05-11T11:24:58.826Z"
   },
   {
    "duration": 15,
    "start_time": "2023-05-11T11:24:59.320Z"
   },
   {
    "duration": 7194,
    "start_time": "2023-05-11T11:25:00.886Z"
   },
   {
    "duration": 0,
    "start_time": "2023-05-11T11:25:08.082Z"
   },
   {
    "duration": 60,
    "start_time": "2023-05-11T11:25:25.134Z"
   },
   {
    "duration": 9,
    "start_time": "2023-05-11T11:25:26.534Z"
   },
   {
    "duration": 3,
    "start_time": "2023-05-11T11:25:27.024Z"
   },
   {
    "duration": 3730,
    "start_time": "2023-05-11T11:25:28.505Z"
   },
   {
    "duration": 54,
    "start_time": "2023-05-11T11:25:58.794Z"
   },
   {
    "duration": 11,
    "start_time": "2023-05-11T11:26:00.345Z"
   },
   {
    "duration": 11,
    "start_time": "2023-05-11T11:26:08.613Z"
   },
   {
    "duration": 10,
    "start_time": "2023-05-11T11:26:09.737Z"
   },
   {
    "duration": 3,
    "start_time": "2023-05-11T11:26:24.417Z"
   },
   {
    "duration": 4,
    "start_time": "2023-05-11T11:27:40.456Z"
   },
   {
    "duration": 12,
    "start_time": "2023-05-11T11:29:04.199Z"
   },
   {
    "duration": 63,
    "start_time": "2023-05-11T11:34:10.661Z"
   },
   {
    "duration": 9,
    "start_time": "2023-05-11T11:34:12.338Z"
   },
   {
    "duration": 4,
    "start_time": "2023-05-11T11:34:13.268Z"
   },
   {
    "duration": 7,
    "start_time": "2023-05-11T11:34:14.990Z"
   },
   {
    "duration": 8,
    "start_time": "2023-05-11T11:34:31.555Z"
   },
   {
    "duration": 688,
    "start_time": "2023-05-11T11:34:40.506Z"
   },
   {
    "duration": 236,
    "start_time": "2023-05-11T11:34:51.119Z"
   },
   {
    "duration": 12,
    "start_time": "2023-05-11T11:37:28.782Z"
   },
   {
    "duration": 253,
    "start_time": "2023-05-11T11:37:44.745Z"
   },
   {
    "duration": 221,
    "start_time": "2023-05-11T11:37:54.129Z"
   },
   {
    "duration": 207,
    "start_time": "2023-05-11T11:38:01.059Z"
   },
   {
    "duration": 3,
    "start_time": "2023-05-11T11:39:28.178Z"
   },
   {
    "duration": 390,
    "start_time": "2023-05-11T11:40:18.983Z"
   },
   {
    "duration": 57,
    "start_time": "2023-05-11T11:40:19.474Z"
   },
   {
    "duration": 14,
    "start_time": "2023-05-11T11:40:20.877Z"
   },
   {
    "duration": 3,
    "start_time": "2023-05-11T11:40:21.750Z"
   },
   {
    "duration": 3,
    "start_time": "2023-05-11T11:40:22.899Z"
   },
   {
    "duration": 960,
    "start_time": "2023-05-11T11:40:24.141Z"
   },
   {
    "duration": 193,
    "start_time": "2023-05-11T11:40:28.148Z"
   },
   {
    "duration": 261,
    "start_time": "2023-05-11T11:40:34.773Z"
   },
   {
    "duration": 199,
    "start_time": "2023-05-11T11:50:33.870Z"
   },
   {
    "duration": 223,
    "start_time": "2023-05-11T11:50:50.091Z"
   },
   {
    "duration": 3,
    "start_time": "2023-05-11T11:51:20.847Z"
   },
   {
    "duration": 51,
    "start_time": "2023-05-11T11:51:23.196Z"
   },
   {
    "duration": 10,
    "start_time": "2023-05-11T11:51:23.618Z"
   },
   {
    "duration": 3,
    "start_time": "2023-05-11T11:51:23.968Z"
   },
   {
    "duration": 4,
    "start_time": "2023-05-11T11:51:24.347Z"
   },
   {
    "duration": 211,
    "start_time": "2023-05-11T11:51:24.725Z"
   },
   {
    "duration": 198,
    "start_time": "2023-05-11T11:51:39.419Z"
   },
   {
    "duration": 74,
    "start_time": "2023-05-11T11:51:58.980Z"
   },
   {
    "duration": 7,
    "start_time": "2023-05-11T11:52:03.852Z"
   },
   {
    "duration": 7,
    "start_time": "2023-05-11T11:52:11.000Z"
   },
   {
    "duration": 7,
    "start_time": "2023-05-11T11:52:21.161Z"
   },
   {
    "duration": 477,
    "start_time": "2023-05-11T11:52:36.037Z"
   },
   {
    "duration": 74,
    "start_time": "2023-05-11T11:52:36.515Z"
   },
   {
    "duration": 11,
    "start_time": "2023-05-11T11:52:37.252Z"
   },
   {
    "duration": 3,
    "start_time": "2023-05-11T11:52:37.677Z"
   },
   {
    "duration": 3,
    "start_time": "2023-05-11T11:52:38.322Z"
   },
   {
    "duration": 9,
    "start_time": "2023-05-11T11:52:39.436Z"
   },
   {
    "duration": 396,
    "start_time": "2023-05-11T11:52:49.356Z"
   },
   {
    "duration": 77,
    "start_time": "2023-05-11T11:52:58.528Z"
   },
   {
    "duration": 3,
    "start_time": "2023-05-11T11:53:17.860Z"
   },
   {
    "duration": 54,
    "start_time": "2023-05-11T11:53:17.912Z"
   },
   {
    "duration": 14,
    "start_time": "2023-05-11T11:53:18.280Z"
   },
   {
    "duration": 4,
    "start_time": "2023-05-11T11:53:18.698Z"
   },
   {
    "duration": 3,
    "start_time": "2023-05-11T11:53:19.110Z"
   },
   {
    "duration": 198,
    "start_time": "2023-05-11T11:53:19.621Z"
   },
   {
    "duration": 10,
    "start_time": "2023-05-11T11:53:23.610Z"
   },
   {
    "duration": 419,
    "start_time": "2023-05-11T11:53:33.007Z"
   },
   {
    "duration": 68,
    "start_time": "2023-05-11T11:53:33.428Z"
   },
   {
    "duration": 11,
    "start_time": "2023-05-11T11:53:33.536Z"
   },
   {
    "duration": 3,
    "start_time": "2023-05-11T11:53:33.910Z"
   },
   {
    "duration": 4,
    "start_time": "2023-05-11T11:53:34.297Z"
   },
   {
    "duration": 580,
    "start_time": "2023-05-11T11:53:34.668Z"
   },
   {
    "duration": 77,
    "start_time": "2023-05-11T11:53:36.229Z"
   },
   {
    "duration": 8,
    "start_time": "2023-05-11T11:53:42.979Z"
   },
   {
    "duration": 9,
    "start_time": "2023-05-11T11:53:51.508Z"
   },
   {
    "duration": 61,
    "start_time": "2023-05-11T11:54:52.812Z"
   },
   {
    "duration": 469,
    "start_time": "2023-05-11T11:54:58.391Z"
   },
   {
    "duration": 56,
    "start_time": "2023-05-11T11:54:58.862Z"
   },
   {
    "duration": 9,
    "start_time": "2023-05-11T11:54:58.920Z"
   },
   {
    "duration": 3,
    "start_time": "2023-05-11T11:54:59.291Z"
   },
   {
    "duration": 3,
    "start_time": "2023-05-11T11:54:59.680Z"
   },
   {
    "duration": 797,
    "start_time": "2023-05-11T11:55:00.039Z"
   },
   {
    "duration": 43,
    "start_time": "2023-05-11T11:55:01.001Z"
   },
   {
    "duration": 7,
    "start_time": "2023-05-11T11:55:26.229Z"
   },
   {
    "duration": 446,
    "start_time": "2023-05-11T11:55:53.857Z"
   },
   {
    "duration": 59,
    "start_time": "2023-05-11T11:55:54.974Z"
   },
   {
    "duration": 10,
    "start_time": "2023-05-11T11:55:58.757Z"
   },
   {
    "duration": 3,
    "start_time": "2023-05-11T11:56:05.644Z"
   },
   {
    "duration": 72,
    "start_time": "2023-05-11T11:56:09.795Z"
   },
   {
    "duration": 9,
    "start_time": "2023-05-11T11:56:18.316Z"
   },
   {
    "duration": 470,
    "start_time": "2023-05-11T11:58:29.026Z"
   },
   {
    "duration": 74,
    "start_time": "2023-05-11T11:58:30.277Z"
   },
   {
    "duration": 13,
    "start_time": "2023-05-11T11:58:31.499Z"
   },
   {
    "duration": 3,
    "start_time": "2023-05-11T11:58:32.778Z"
   },
   {
    "duration": 66,
    "start_time": "2023-05-11T11:58:34.524Z"
   },
   {
    "duration": 8,
    "start_time": "2023-05-11T11:59:51.756Z"
   },
   {
    "duration": 8,
    "start_time": "2023-05-11T11:59:53.457Z"
   },
   {
    "duration": 403,
    "start_time": "2023-05-11T12:00:03.459Z"
   },
   {
    "duration": 58,
    "start_time": "2023-05-11T12:00:04.041Z"
   },
   {
    "duration": 13,
    "start_time": "2023-05-11T12:00:04.469Z"
   },
   {
    "duration": 4,
    "start_time": "2023-05-11T12:00:08.378Z"
   },
   {
    "duration": 608,
    "start_time": "2023-05-11T12:00:12.835Z"
   },
   {
    "duration": 81,
    "start_time": "2023-05-11T12:00:16.897Z"
   },
   {
    "duration": 7,
    "start_time": "2023-05-11T12:00:23.237Z"
   },
   {
    "duration": 370,
    "start_time": "2023-05-11T12:00:32.748Z"
   },
   {
    "duration": 58,
    "start_time": "2023-05-11T12:00:33.154Z"
   },
   {
    "duration": 11,
    "start_time": "2023-05-11T12:00:33.512Z"
   },
   {
    "duration": 3,
    "start_time": "2023-05-11T12:00:34.378Z"
   },
   {
    "duration": 4,
    "start_time": "2023-05-11T12:00:36.838Z"
   },
   {
    "duration": 954,
    "start_time": "2023-05-11T12:00:38.063Z"
   },
   {
    "duration": 95,
    "start_time": "2023-05-11T12:00:42.979Z"
   },
   {
    "duration": 8,
    "start_time": "2023-05-11T12:00:59.511Z"
   },
   {
    "duration": 3,
    "start_time": "2023-05-11T12:02:54.306Z"
   },
   {
    "duration": 54,
    "start_time": "2023-05-11T12:02:54.482Z"
   },
   {
    "duration": 11,
    "start_time": "2023-05-11T12:02:54.845Z"
   },
   {
    "duration": 3,
    "start_time": "2023-05-11T12:02:55.287Z"
   },
   {
    "duration": 4,
    "start_time": "2023-05-11T12:02:56.748Z"
   },
   {
    "duration": 204,
    "start_time": "2023-05-11T12:02:57.289Z"
   },
   {
    "duration": 8,
    "start_time": "2023-05-11T12:04:03.478Z"
   },
   {
    "duration": 421,
    "start_time": "2023-05-11T12:04:48.588Z"
   },
   {
    "duration": 56,
    "start_time": "2023-05-11T12:04:49.012Z"
   },
   {
    "duration": 12,
    "start_time": "2023-05-11T12:04:50.137Z"
   },
   {
    "duration": 3,
    "start_time": "2023-05-11T12:04:51.032Z"
   },
   {
    "duration": 4,
    "start_time": "2023-05-11T12:04:52.096Z"
   },
   {
    "duration": 533,
    "start_time": "2023-05-11T12:04:53.130Z"
   },
   {
    "duration": 76,
    "start_time": "2023-05-11T12:06:44.306Z"
   },
   {
    "duration": 505,
    "start_time": "2023-05-11T12:11:11.451Z"
   },
   {
    "duration": 344,
    "start_time": "2023-05-11T12:11:25.358Z"
   },
   {
    "duration": 492,
    "start_time": "2023-05-11T12:12:11.863Z"
   },
   {
    "duration": 50,
    "start_time": "2023-05-11T12:12:12.949Z"
   },
   {
    "duration": 9,
    "start_time": "2023-05-11T12:12:13.365Z"
   },
   {
    "duration": 3,
    "start_time": "2023-05-11T12:12:13.699Z"
   },
   {
    "duration": 4,
    "start_time": "2023-05-11T12:12:14.098Z"
   },
   {
    "duration": 248,
    "start_time": "2023-05-11T12:12:14.580Z"
   },
   {
    "duration": 51,
    "start_time": "2023-05-11T12:12:16.665Z"
   },
   {
    "duration": 11,
    "start_time": "2023-05-11T12:13:44.529Z"
   },
   {
    "duration": 341,
    "start_time": "2023-05-11T12:13:45.591Z"
   },
   {
    "duration": 319,
    "start_time": "2023-05-11T12:14:15.431Z"
   },
   {
    "duration": 9,
    "start_time": "2023-05-11T12:14:22.348Z"
   },
   {
    "duration": 9,
    "start_time": "2023-05-11T12:14:29.484Z"
   },
   {
    "duration": 1135,
    "start_time": "2023-05-11T12:16:06.180Z"
   },
   {
    "duration": 54,
    "start_time": "2023-05-11T12:16:07.317Z"
   },
   {
    "duration": 10,
    "start_time": "2023-05-11T12:16:08.180Z"
   },
   {
    "duration": 3,
    "start_time": "2023-05-11T12:16:08.626Z"
   },
   {
    "duration": 4,
    "start_time": "2023-05-11T12:16:09.247Z"
   },
   {
    "duration": 220,
    "start_time": "2023-05-11T12:16:10.119Z"
   },
   {
    "duration": 117,
    "start_time": "2023-05-11T12:16:12.272Z"
   },
   {
    "duration": 8,
    "start_time": "2023-05-11T12:16:17.679Z"
   },
   {
    "duration": 10,
    "start_time": "2023-05-11T12:16:20.558Z"
   },
   {
    "duration": 8,
    "start_time": "2023-05-11T12:16:23.518Z"
   },
   {
    "duration": 7,
    "start_time": "2023-05-11T12:16:25.426Z"
   },
   {
    "duration": 1223,
    "start_time": "2023-05-11T12:16:36.913Z"
   },
   {
    "duration": 72,
    "start_time": "2023-05-11T12:16:38.141Z"
   },
   {
    "duration": 13,
    "start_time": "2023-05-11T12:16:38.793Z"
   },
   {
    "duration": 2,
    "start_time": "2023-05-11T12:16:39.248Z"
   },
   {
    "duration": 4,
    "start_time": "2023-05-11T12:16:40.427Z"
   },
   {
    "duration": 225,
    "start_time": "2023-05-11T12:16:41.480Z"
   },
   {
    "duration": 105,
    "start_time": "2023-05-11T12:16:53.733Z"
   },
   {
    "duration": 8,
    "start_time": "2023-05-11T12:16:56.988Z"
   },
   {
    "duration": 7,
    "start_time": "2023-05-11T12:16:58.496Z"
   },
   {
    "duration": 1255,
    "start_time": "2023-05-11T12:17:21.543Z"
   },
   {
    "duration": 54,
    "start_time": "2023-05-11T12:17:22.800Z"
   },
   {
    "duration": 10,
    "start_time": "2023-05-11T12:17:23.448Z"
   },
   {
    "duration": 3,
    "start_time": "2023-05-11T12:17:23.873Z"
   },
   {
    "duration": 4,
    "start_time": "2023-05-11T12:17:24.300Z"
   },
   {
    "duration": 221,
    "start_time": "2023-05-11T12:17:24.969Z"
   },
   {
    "duration": 106,
    "start_time": "2023-05-11T12:17:29.292Z"
   },
   {
    "duration": 1284,
    "start_time": "2023-05-11T12:21:00.913Z"
   },
   {
    "duration": 73,
    "start_time": "2023-05-11T12:21:02.198Z"
   },
   {
    "duration": 9,
    "start_time": "2023-05-11T12:21:02.272Z"
   },
   {
    "duration": 70,
    "start_time": "2023-05-11T12:21:02.283Z"
   },
   {
    "duration": 57,
    "start_time": "2023-05-11T12:21:02.354Z"
   },
   {
    "duration": 269,
    "start_time": "2023-05-11T12:21:02.412Z"
   },
   {
    "duration": 126,
    "start_time": "2023-05-11T12:21:02.683Z"
   },
   {
    "duration": 1848,
    "start_time": "2023-05-11T12:21:17.452Z"
   },
   {
    "duration": 63,
    "start_time": "2023-05-11T12:21:19.302Z"
   },
   {
    "duration": 10,
    "start_time": "2023-05-11T12:21:19.367Z"
   },
   {
    "duration": 3,
    "start_time": "2023-05-11T12:21:19.379Z"
   },
   {
    "duration": 5,
    "start_time": "2023-05-11T12:21:19.384Z"
   },
   {
    "duration": 246,
    "start_time": "2023-05-11T12:21:19.391Z"
   },
   {
    "duration": 119,
    "start_time": "2023-05-11T12:21:25.366Z"
   },
   {
    "duration": 8,
    "start_time": "2023-05-11T12:21:37.110Z"
   },
   {
    "duration": 1221,
    "start_time": "2023-05-11T12:21:43.792Z"
   },
   {
    "duration": 71,
    "start_time": "2023-05-11T12:21:45.015Z"
   },
   {
    "duration": 9,
    "start_time": "2023-05-11T12:21:45.088Z"
   },
   {
    "duration": 7,
    "start_time": "2023-05-11T12:21:45.099Z"
   },
   {
    "duration": 6,
    "start_time": "2023-05-11T12:21:45.107Z"
   },
   {
    "duration": 243,
    "start_time": "2023-05-11T12:21:45.115Z"
   },
   {
    "duration": 213,
    "start_time": "2023-05-11T12:21:49.102Z"
   },
   {
    "duration": 222,
    "start_time": "2023-05-11T12:21:51.376Z"
   },
   {
    "duration": 12,
    "start_time": "2023-05-11T12:22:38.412Z"
   },
   {
    "duration": 625,
    "start_time": "2023-05-11T12:22:50.440Z"
   },
   {
    "duration": 528,
    "start_time": "2023-05-11T12:23:05.399Z"
   },
   {
    "duration": 6,
    "start_time": "2023-05-11T12:23:24.912Z"
   },
   {
    "duration": 6082,
    "start_time": "2023-05-11T12:23:36.399Z"
   },
   {
    "duration": 5523,
    "start_time": "2023-05-11T12:24:15.087Z"
   },
   {
    "duration": 1207,
    "start_time": "2023-05-11T12:25:13.783Z"
   },
   {
    "duration": 54,
    "start_time": "2023-05-11T12:25:15.830Z"
   },
   {
    "duration": 10,
    "start_time": "2023-05-11T12:25:16.342Z"
   },
   {
    "duration": 3,
    "start_time": "2023-05-11T12:25:16.672Z"
   },
   {
    "duration": 4,
    "start_time": "2023-05-11T12:25:17.064Z"
   },
   {
    "duration": 224,
    "start_time": "2023-05-11T12:25:17.469Z"
   },
   {
    "duration": 690,
    "start_time": "2023-05-11T12:25:19.383Z"
   },
   {
    "duration": 688,
    "start_time": "2023-05-11T12:25:32.784Z"
   },
   {
    "duration": 680,
    "start_time": "2023-05-11T12:25:42.263Z"
   },
   {
    "duration": 215,
    "start_time": "2023-05-11T12:26:06.630Z"
   },
   {
    "duration": 709,
    "start_time": "2023-05-11T12:26:10.430Z"
   },
   {
    "duration": 201,
    "start_time": "2023-05-11T12:27:15.914Z"
   },
   {
    "duration": 1210,
    "start_time": "2023-05-11T12:27:47.649Z"
   },
   {
    "duration": 56,
    "start_time": "2023-05-11T12:27:48.861Z"
   },
   {
    "duration": 10,
    "start_time": "2023-05-11T12:27:49.447Z"
   },
   {
    "duration": 3,
    "start_time": "2023-05-11T12:27:49.848Z"
   },
   {
    "duration": 4,
    "start_time": "2023-05-11T12:27:50.460Z"
   },
   {
    "duration": 242,
    "start_time": "2023-05-11T12:27:52.432Z"
   },
   {
    "duration": 5,
    "start_time": "2023-05-11T12:27:56.637Z"
   },
   {
    "duration": 779,
    "start_time": "2023-05-11T12:27:57.793Z"
   },
   {
    "duration": 136,
    "start_time": "2023-05-11T12:29:22.145Z"
   },
   {
    "duration": 60,
    "start_time": "2023-05-11T12:31:36.718Z"
   },
   {
    "duration": 30,
    "start_time": "2023-05-11T12:31:41.607Z"
   },
   {
    "duration": 13,
    "start_time": "2023-05-11T12:32:00.004Z"
   },
   {
    "duration": 1254,
    "start_time": "2023-05-11T12:33:41.735Z"
   },
   {
    "duration": 60,
    "start_time": "2023-05-11T12:33:42.991Z"
   },
   {
    "duration": 12,
    "start_time": "2023-05-11T12:33:43.664Z"
   },
   {
    "duration": 3,
    "start_time": "2023-05-11T12:33:44.107Z"
   },
   {
    "duration": 4,
    "start_time": "2023-05-11T12:33:44.758Z"
   },
   {
    "duration": 231,
    "start_time": "2023-05-11T12:33:45.678Z"
   },
   {
    "duration": 2,
    "start_time": "2023-05-11T12:33:47.582Z"
   },
   {
    "duration": 712,
    "start_time": "2023-05-11T12:33:47.877Z"
   },
   {
    "duration": 120,
    "start_time": "2023-05-11T12:33:51.643Z"
   },
   {
    "duration": 6,
    "start_time": "2023-05-11T12:36:13.440Z"
   },
   {
    "duration": 1256,
    "start_time": "2023-05-11T12:36:34.070Z"
   },
   {
    "duration": 56,
    "start_time": "2023-05-11T12:36:35.328Z"
   },
   {
    "duration": 10,
    "start_time": "2023-05-11T12:36:35.385Z"
   },
   {
    "duration": 3,
    "start_time": "2023-05-11T12:36:35.661Z"
   },
   {
    "duration": 4,
    "start_time": "2023-05-11T12:36:36.976Z"
   },
   {
    "duration": 264,
    "start_time": "2023-05-11T12:36:37.730Z"
   },
   {
    "duration": 6,
    "start_time": "2023-05-11T12:36:41.815Z"
   },
   {
    "duration": 112,
    "start_time": "2023-05-11T12:36:43.232Z"
   },
   {
    "duration": 89,
    "start_time": "2023-05-11T12:36:59.883Z"
   },
   {
    "duration": 2887,
    "start_time": "2023-05-11T12:37:57.650Z"
   },
   {
    "duration": 61,
    "start_time": "2023-05-11T12:38:00.539Z"
   },
   {
    "duration": 13,
    "start_time": "2023-05-11T12:38:00.601Z"
   },
   {
    "duration": 3,
    "start_time": "2023-05-11T12:38:01.984Z"
   },
   {
    "duration": 5,
    "start_time": "2023-05-11T12:38:02.418Z"
   },
   {
    "duration": 225,
    "start_time": "2023-05-11T12:38:02.868Z"
   },
   {
    "duration": 168,
    "start_time": "2023-05-11T12:38:04.168Z"
   },
   {
    "duration": 652,
    "start_time": "2023-05-11T12:38:05.633Z"
   },
   {
    "duration": 7,
    "start_time": "2023-05-11T12:38:06.287Z"
   },
   {
    "duration": 111,
    "start_time": "2023-05-11T12:38:08.506Z"
   },
   {
    "duration": 1588,
    "start_time": "2023-05-12T11:19:32.674Z"
   },
   {
    "duration": 242,
    "start_time": "2023-05-12T11:19:35.598Z"
   },
   {
    "duration": 33,
    "start_time": "2023-05-12T11:19:37.483Z"
   },
   {
    "duration": 3,
    "start_time": "2023-05-12T11:19:38.933Z"
   },
   {
    "duration": 4,
    "start_time": "2023-05-12T11:19:40.129Z"
   },
   {
    "duration": 392,
    "start_time": "2023-05-12T11:19:41.338Z"
   },
   {
    "duration": 226,
    "start_time": "2023-05-12T11:19:45.987Z"
   },
   {
    "duration": 10,
    "start_time": "2023-05-12T11:19:48.405Z"
   },
   {
    "duration": 135,
    "start_time": "2023-05-12T11:19:49.808Z"
   },
   {
    "duration": 135,
    "start_time": "2023-05-12T11:19:57.538Z"
   },
   {
    "duration": 1303,
    "start_time": "2023-05-12T11:22:25.611Z"
   },
   {
    "duration": 87,
    "start_time": "2023-05-12T11:22:26.918Z"
   },
   {
    "duration": 22,
    "start_time": "2023-05-12T11:22:27.580Z"
   },
   {
    "duration": 3,
    "start_time": "2023-05-12T11:22:28.007Z"
   },
   {
    "duration": 13,
    "start_time": "2023-05-12T11:22:28.388Z"
   },
   {
    "duration": 285,
    "start_time": "2023-05-12T11:22:28.868Z"
   },
   {
    "duration": 273,
    "start_time": "2023-05-12T11:22:30.103Z"
   },
   {
    "duration": 10,
    "start_time": "2023-05-12T11:22:30.378Z"
   },
   {
    "duration": 140,
    "start_time": "2023-05-12T11:22:33.683Z"
   },
   {
    "duration": 250,
    "start_time": "2023-05-12T11:22:40.650Z"
   },
   {
    "duration": 12,
    "start_time": "2023-05-12T11:22:43.474Z"
   },
   {
    "duration": 14,
    "start_time": "2023-05-12T11:22:44.997Z"
   },
   {
    "duration": 214,
    "start_time": "2023-05-12T11:24:36.503Z"
   },
   {
    "duration": 25,
    "start_time": "2023-05-12T11:24:39.795Z"
   },
   {
    "duration": 12,
    "start_time": "2023-05-12T11:24:47.109Z"
   },
   {
    "duration": 9,
    "start_time": "2023-05-12T11:24:55.935Z"
   },
   {
    "duration": 1340,
    "start_time": "2023-05-12T11:25:05.209Z"
   },
   {
    "duration": 69,
    "start_time": "2023-05-12T11:25:06.568Z"
   },
   {
    "duration": 15,
    "start_time": "2023-05-12T11:25:07.707Z"
   },
   {
    "duration": 2,
    "start_time": "2023-05-12T11:25:08.625Z"
   },
   {
    "duration": 4,
    "start_time": "2023-05-12T11:25:09.522Z"
   },
   {
    "duration": 324,
    "start_time": "2023-05-12T11:25:10.447Z"
   },
   {
    "duration": 246,
    "start_time": "2023-05-12T11:25:13.876Z"
   },
   {
    "duration": 137,
    "start_time": "2023-05-12T11:25:17.082Z"
   },
   {
    "duration": 923,
    "start_time": "2023-05-12T11:29:36.479Z"
   },
   {
    "duration": 861,
    "start_time": "2023-05-12T11:29:45.497Z"
   },
   {
    "duration": 18,
    "start_time": "2023-05-12T11:29:49.119Z"
   },
   {
    "duration": 1638,
    "start_time": "2023-05-12T11:33:37.031Z"
   },
   {
    "duration": 117,
    "start_time": "2023-05-12T11:33:38.672Z"
   },
   {
    "duration": 5,
    "start_time": "2023-05-12T11:33:41.180Z"
   },
   {
    "duration": 156,
    "start_time": "2023-05-12T11:33:46.711Z"
   },
   {
    "duration": 193,
    "start_time": "2023-05-12T11:33:49.813Z"
   },
   {
    "duration": 1350,
    "start_time": "2023-05-12T11:34:09.814Z"
   },
   {
    "duration": 70,
    "start_time": "2023-05-12T11:34:11.166Z"
   },
   {
    "duration": 19,
    "start_time": "2023-05-12T11:34:17.599Z"
   },
   {
    "duration": 3,
    "start_time": "2023-05-12T11:34:18.830Z"
   },
   {
    "duration": 4,
    "start_time": "2023-05-12T11:34:20.006Z"
   },
   {
    "duration": 293,
    "start_time": "2023-05-12T11:34:22.803Z"
   },
   {
    "duration": 209,
    "start_time": "2023-05-12T11:34:26.697Z"
   },
   {
    "duration": 277,
    "start_time": "2023-05-12T11:34:35.082Z"
   },
   {
    "duration": 757,
    "start_time": "2023-05-12T11:34:39.749Z"
   },
   {
    "duration": 193,
    "start_time": "2023-05-12T11:34:47.342Z"
   },
   {
    "duration": 1417,
    "start_time": "2023-05-12T11:44:03.391Z"
   },
   {
    "duration": 97,
    "start_time": "2023-05-12T11:44:04.810Z"
   },
   {
    "duration": 28,
    "start_time": "2023-05-12T11:44:05.572Z"
   },
   {
    "duration": 4,
    "start_time": "2023-05-12T11:44:06.416Z"
   },
   {
    "duration": 4,
    "start_time": "2023-05-12T11:44:06.904Z"
   },
   {
    "duration": 13,
    "start_time": "2023-05-12T11:44:07.372Z"
   },
   {
    "duration": 15,
    "start_time": "2023-05-12T11:45:51.068Z"
   },
   {
    "duration": 11,
    "start_time": "2023-05-12T11:45:55.379Z"
   },
   {
    "duration": 805,
    "start_time": "2023-05-12T11:45:56.383Z"
   },
   {
    "duration": 225,
    "start_time": "2023-05-12T11:46:15.074Z"
   },
   {
    "duration": 145,
    "start_time": "2023-05-12T11:46:22.968Z"
   },
   {
    "duration": 17,
    "start_time": "2023-05-12T11:46:23.681Z"
   },
   {
    "duration": 1228,
    "start_time": "2023-05-12T11:46:50.676Z"
   },
   {
    "duration": 62,
    "start_time": "2023-05-12T11:46:51.907Z"
   },
   {
    "duration": 19,
    "start_time": "2023-05-12T11:46:53.374Z"
   },
   {
    "duration": 6,
    "start_time": "2023-05-12T11:46:54.524Z"
   },
   {
    "duration": 5,
    "start_time": "2023-05-12T11:46:55.507Z"
   },
   {
    "duration": 277,
    "start_time": "2023-05-12T11:46:57.507Z"
   },
   {
    "duration": 9,
    "start_time": "2023-05-12T11:47:05.013Z"
   },
   {
    "duration": 787,
    "start_time": "2023-05-12T11:47:07.727Z"
   },
   {
    "duration": 1101,
    "start_time": "2023-05-12T11:47:20.376Z"
   },
   {
    "duration": 304,
    "start_time": "2023-05-12T11:59:23.938Z"
   },
   {
    "duration": 29,
    "start_time": "2023-05-12T12:01:00.682Z"
   },
   {
    "duration": 1350,
    "start_time": "2023-05-12T12:02:09.612Z"
   },
   {
    "duration": 71,
    "start_time": "2023-05-12T12:02:10.968Z"
   },
   {
    "duration": 26,
    "start_time": "2023-05-12T12:02:11.040Z"
   },
   {
    "duration": 3,
    "start_time": "2023-05-12T12:02:11.071Z"
   },
   {
    "duration": 15,
    "start_time": "2023-05-12T12:02:11.297Z"
   },
   {
    "duration": 299,
    "start_time": "2023-05-12T12:02:11.645Z"
   },
   {
    "duration": 22,
    "start_time": "2023-05-12T12:02:13.548Z"
   },
   {
    "duration": 1052,
    "start_time": "2023-05-12T12:02:14.312Z"
   },
   {
    "duration": 178,
    "start_time": "2023-05-12T12:02:17.558Z"
   },
   {
    "duration": 8,
    "start_time": "2023-05-12T12:03:29.737Z"
   },
   {
    "duration": 28,
    "start_time": "2023-05-12T12:03:31.334Z"
   },
   {
    "duration": 255,
    "start_time": "2023-05-12T12:03:49.014Z"
   },
   {
    "duration": 41,
    "start_time": "2023-05-12T12:04:06.777Z"
   },
   {
    "duration": 19,
    "start_time": "2023-05-12T12:04:15.011Z"
   },
   {
    "duration": 952,
    "start_time": "2023-05-12T12:04:33.672Z"
   },
   {
    "duration": 838,
    "start_time": "2023-05-12T12:04:44.678Z"
   },
   {
    "duration": 1395,
    "start_time": "2023-05-12T12:05:03.371Z"
   },
   {
    "duration": 66,
    "start_time": "2023-05-12T12:05:04.779Z"
   },
   {
    "duration": 1314,
    "start_time": "2023-05-12T12:06:13.815Z"
   },
   {
    "duration": 96,
    "start_time": "2023-05-12T12:06:15.131Z"
   },
   {
    "duration": 13,
    "start_time": "2023-05-12T12:06:16.100Z"
   },
   {
    "duration": 3,
    "start_time": "2023-05-12T12:06:16.844Z"
   },
   {
    "duration": 15,
    "start_time": "2023-05-12T12:06:17.550Z"
   },
   {
    "duration": 268,
    "start_time": "2023-05-12T12:06:18.710Z"
   },
   {
    "duration": 997,
    "start_time": "2023-05-12T12:06:24.301Z"
   },
   {
    "duration": 938,
    "start_time": "2023-05-12T12:06:47.686Z"
   },
   {
    "duration": 2241,
    "start_time": "2023-05-12T12:13:57.797Z"
   },
   {
    "duration": 478,
    "start_time": "2023-05-12T12:14:25.999Z"
   },
   {
    "duration": 510,
    "start_time": "2023-05-12T12:14:43.996Z"
   },
   {
    "duration": 1000,
    "start_time": "2023-05-12T12:15:05.035Z"
   },
   {
    "duration": 678,
    "start_time": "2023-05-12T12:15:13.304Z"
   },
   {
    "duration": 436,
    "start_time": "2023-05-12T12:15:25.787Z"
   },
   {
    "duration": 455,
    "start_time": "2023-05-12T12:15:35.167Z"
   },
   {
    "duration": 552,
    "start_time": "2023-05-12T12:15:48.201Z"
   },
   {
    "duration": 486,
    "start_time": "2023-05-12T12:16:34.900Z"
   },
   {
    "duration": 1444,
    "start_time": "2023-05-12T12:16:48.573Z"
   },
   {
    "duration": 77,
    "start_time": "2023-05-12T12:16:50.019Z"
   },
   {
    "duration": 13,
    "start_time": "2023-05-12T12:16:50.617Z"
   },
   {
    "duration": 3,
    "start_time": "2023-05-12T12:16:51.020Z"
   },
   {
    "duration": 6,
    "start_time": "2023-05-12T12:16:51.403Z"
   },
   {
    "duration": 321,
    "start_time": "2023-05-12T12:16:51.713Z"
   },
   {
    "duration": 1052,
    "start_time": "2023-05-12T12:16:52.504Z"
   },
   {
    "duration": 997,
    "start_time": "2023-05-12T12:16:54.905Z"
   },
   {
    "duration": 589,
    "start_time": "2023-05-12T12:16:59.850Z"
   },
   {
    "duration": 533,
    "start_time": "2023-05-12T12:17:05.942Z"
   },
   {
    "duration": 430,
    "start_time": "2023-05-12T12:19:51.104Z"
   },
   {
    "duration": 1350,
    "start_time": "2023-05-12T12:20:08.466Z"
   },
   {
    "duration": 80,
    "start_time": "2023-05-12T12:20:09.818Z"
   },
   {
    "duration": 24,
    "start_time": "2023-05-12T12:20:09.902Z"
   },
   {
    "duration": 18,
    "start_time": "2023-05-12T12:20:10.548Z"
   },
   {
    "duration": 9,
    "start_time": "2023-05-12T12:20:10.948Z"
   },
   {
    "duration": 334,
    "start_time": "2023-05-12T12:20:11.339Z"
   },
   {
    "duration": 980,
    "start_time": "2023-05-12T12:20:12.830Z"
   },
   {
    "duration": 829,
    "start_time": "2023-05-12T12:20:15.371Z"
   },
   {
    "duration": 486,
    "start_time": "2023-05-12T12:20:21.106Z"
   },
   {
    "duration": 413,
    "start_time": "2023-05-12T12:20:40.606Z"
   },
   {
    "duration": 475,
    "start_time": "2023-05-12T12:25:30.284Z"
   },
   {
    "duration": 1626,
    "start_time": "2023-05-12T12:26:01.136Z"
   },
   {
    "duration": 82,
    "start_time": "2023-05-12T12:26:02.764Z"
   },
   {
    "duration": 36,
    "start_time": "2023-05-12T12:26:02.848Z"
   },
   {
    "duration": 3,
    "start_time": "2023-05-12T12:26:03.327Z"
   },
   {
    "duration": 5,
    "start_time": "2023-05-12T12:26:04.000Z"
   },
   {
    "duration": 340,
    "start_time": "2023-05-12T12:26:04.368Z"
   },
   {
    "duration": 1019,
    "start_time": "2023-05-12T12:26:05.171Z"
   },
   {
    "duration": 815,
    "start_time": "2023-05-12T12:26:07.316Z"
   },
   {
    "duration": 530,
    "start_time": "2023-05-12T12:26:26.235Z"
   },
   {
    "duration": 484,
    "start_time": "2023-05-12T12:26:55.251Z"
   },
   {
    "duration": 1428,
    "start_time": "2023-05-12T12:27:53.416Z"
   },
   {
    "duration": 80,
    "start_time": "2023-05-12T12:27:54.847Z"
   },
   {
    "duration": 15,
    "start_time": "2023-05-12T12:27:55.900Z"
   },
   {
    "duration": 6,
    "start_time": "2023-05-12T12:27:56.700Z"
   },
   {
    "duration": 10,
    "start_time": "2023-05-12T12:27:57.147Z"
   },
   {
    "duration": 314,
    "start_time": "2023-05-12T12:28:04.996Z"
   },
   {
    "duration": 1210,
    "start_time": "2023-05-12T12:28:09.022Z"
   },
   {
    "duration": 919,
    "start_time": "2023-05-12T12:28:11.793Z"
   },
   {
    "duration": 569,
    "start_time": "2023-05-12T12:28:14.537Z"
   },
   {
    "duration": 429,
    "start_time": "2023-05-12T12:28:31.016Z"
   },
   {
    "duration": 487,
    "start_time": "2023-05-12T12:28:42.020Z"
   },
   {
    "duration": 547,
    "start_time": "2023-05-12T12:28:52.293Z"
   },
   {
    "duration": 452,
    "start_time": "2023-05-12T12:29:03.429Z"
   },
   {
    "duration": 426,
    "start_time": "2023-05-12T12:29:13.709Z"
   },
   {
    "duration": 429,
    "start_time": "2023-05-12T12:29:24.032Z"
   },
   {
    "duration": 536,
    "start_time": "2023-05-12T12:29:31.626Z"
   },
   {
    "duration": 452,
    "start_time": "2023-05-12T12:29:42.526Z"
   },
   {
    "duration": 147,
    "start_time": "2023-05-12T12:29:55.603Z"
   },
   {
    "duration": 1394,
    "start_time": "2023-05-12T12:30:07.447Z"
   },
   {
    "duration": 93,
    "start_time": "2023-05-12T12:30:08.844Z"
   },
   {
    "duration": 25,
    "start_time": "2023-05-12T12:30:08.939Z"
   },
   {
    "duration": 12,
    "start_time": "2023-05-12T12:30:08.976Z"
   },
   {
    "duration": 12,
    "start_time": "2023-05-12T12:30:08.989Z"
   },
   {
    "duration": 309,
    "start_time": "2023-05-12T12:30:09.226Z"
   },
   {
    "duration": 1074,
    "start_time": "2023-05-12T12:30:10.007Z"
   },
   {
    "duration": 717,
    "start_time": "2023-05-12T12:30:11.086Z"
   },
   {
    "duration": 855,
    "start_time": "2023-05-12T12:30:27.576Z"
   },
   {
    "duration": 758,
    "start_time": "2023-05-12T12:30:36.444Z"
   },
   {
    "duration": 1024,
    "start_time": "2023-05-12T12:30:55.385Z"
   },
   {
    "duration": 775,
    "start_time": "2023-05-12T12:31:01.080Z"
   },
   {
    "duration": 444,
    "start_time": "2023-05-12T12:31:05.095Z"
   },
   {
    "duration": 402,
    "start_time": "2023-05-12T12:31:08.428Z"
   },
   {
    "duration": 167,
    "start_time": "2023-05-12T12:36:01.231Z"
   },
   {
    "duration": 449,
    "start_time": "2023-05-12T12:36:19.141Z"
   },
   {
    "duration": 28,
    "start_time": "2023-05-12T12:36:24.063Z"
   },
   {
    "duration": 3,
    "start_time": "2023-05-12T12:40:17.797Z"
   },
   {
    "duration": 33,
    "start_time": "2023-05-12T12:40:41.777Z"
   },
   {
    "duration": 8,
    "start_time": "2023-05-12T12:41:03.113Z"
   },
   {
    "duration": 8,
    "start_time": "2023-05-12T12:41:11.974Z"
   },
   {
    "duration": 25,
    "start_time": "2023-05-12T12:41:52.003Z"
   },
   {
    "duration": 25,
    "start_time": "2023-05-12T12:42:08.927Z"
   },
   {
    "duration": 245,
    "start_time": "2023-05-12T12:42:14.411Z"
   },
   {
    "duration": 49,
    "start_time": "2023-05-12T12:42:42.002Z"
   },
   {
    "duration": 55,
    "start_time": "2023-05-12T12:42:53.576Z"
   },
   {
    "duration": 11,
    "start_time": "2023-05-12T12:42:54.331Z"
   },
   {
    "duration": 8,
    "start_time": "2023-05-12T12:42:55.212Z"
   },
   {
    "duration": 199,
    "start_time": "2023-05-12T12:42:55.935Z"
   },
   {
    "duration": 14,
    "start_time": "2023-05-12T12:43:03.510Z"
   },
   {
    "duration": 25,
    "start_time": "2023-05-12T12:43:04.300Z"
   },
   {
    "duration": 8,
    "start_time": "2023-05-12T12:43:05.116Z"
   },
   {
    "duration": 176,
    "start_time": "2023-05-12T12:43:05.814Z"
   },
   {
    "duration": 23,
    "start_time": "2023-05-12T12:43:23.697Z"
   },
   {
    "duration": 20,
    "start_time": "2023-05-12T12:43:26.178Z"
   },
   {
    "duration": 6,
    "start_time": "2023-05-12T12:43:26.641Z"
   },
   {
    "duration": 207,
    "start_time": "2023-05-12T12:43:27.209Z"
   },
   {
    "duration": 113,
    "start_time": "2023-05-12T12:43:33.527Z"
   },
   {
    "duration": 26,
    "start_time": "2023-05-12T12:43:33.846Z"
   },
   {
    "duration": 24,
    "start_time": "2023-05-12T12:43:34.199Z"
   },
   {
    "duration": 2342,
    "start_time": "2023-05-12T12:43:34.674Z"
   },
   {
    "duration": 12,
    "start_time": "2023-05-12T12:43:43.314Z"
   },
   {
    "duration": 9,
    "start_time": "2023-05-12T12:43:43.731Z"
   },
   {
    "duration": 16,
    "start_time": "2023-05-12T12:43:44.137Z"
   },
   {
    "duration": 818,
    "start_time": "2023-05-12T12:43:44.523Z"
   },
   {
    "duration": 1848,
    "start_time": "2023-05-12T12:43:57.548Z"
   },
   {
    "duration": 74,
    "start_time": "2023-05-12T12:43:59.408Z"
   },
   {
    "duration": 16,
    "start_time": "2023-05-12T12:43:59.487Z"
   },
   {
    "duration": 6,
    "start_time": "2023-05-12T12:43:59.505Z"
   },
   {
    "duration": 8,
    "start_time": "2023-05-12T12:43:59.513Z"
   },
   {
    "duration": 365,
    "start_time": "2023-05-12T12:44:00.409Z"
   },
   {
    "duration": 1216,
    "start_time": "2023-05-12T12:44:01.213Z"
   },
   {
    "duration": 852,
    "start_time": "2023-05-12T12:44:02.432Z"
   },
   {
    "duration": 441,
    "start_time": "2023-05-12T12:44:03.286Z"
   },
   {
    "duration": 425,
    "start_time": "2023-05-12T12:44:03.730Z"
   },
   {
    "duration": 16,
    "start_time": "2023-05-12T12:44:22.707Z"
   },
   {
    "duration": 7,
    "start_time": "2023-05-12T12:44:23.403Z"
   },
   {
    "duration": 15,
    "start_time": "2023-05-12T12:44:23.679Z"
   },
   {
    "duration": 30,
    "start_time": "2023-05-12T12:44:24.404Z"
   },
   {
    "duration": 9,
    "start_time": "2023-05-12T12:44:28.112Z"
   },
   {
    "duration": 10,
    "start_time": "2023-05-12T12:44:28.395Z"
   },
   {
    "duration": 7,
    "start_time": "2023-05-12T12:44:28.620Z"
   },
   {
    "duration": 55,
    "start_time": "2023-05-12T12:44:29.250Z"
   },
   {
    "duration": 141,
    "start_time": "2023-05-12T12:44:48.479Z"
   },
   {
    "duration": 37,
    "start_time": "2023-05-12T12:44:49.281Z"
   },
   {
    "duration": 9,
    "start_time": "2023-05-12T12:44:49.613Z"
   },
   {
    "duration": 5037,
    "start_time": "2023-05-12T12:44:50.118Z"
   },
   {
    "duration": 9,
    "start_time": "2023-05-12T12:45:02.739Z"
   },
   {
    "duration": 21,
    "start_time": "2023-05-12T12:45:03.303Z"
   },
   {
    "duration": 18,
    "start_time": "2023-05-12T12:45:03.607Z"
   },
   {
    "duration": 512,
    "start_time": "2023-05-12T12:45:05.325Z"
   },
   {
    "duration": 10,
    "start_time": "2023-05-12T12:45:13.024Z"
   },
   {
    "duration": 13,
    "start_time": "2023-05-12T12:45:13.518Z"
   },
   {
    "duration": 13,
    "start_time": "2023-05-12T12:45:14.007Z"
   },
   {
    "duration": 2825,
    "start_time": "2023-05-12T12:45:14.507Z"
   },
   {
    "duration": 17,
    "start_time": "2023-05-12T12:45:22.701Z"
   },
   {
    "duration": 28,
    "start_time": "2023-05-12T12:45:23.546Z"
   },
   {
    "duration": 10,
    "start_time": "2023-05-12T12:45:24.232Z"
   },
   {
    "duration": 5629,
    "start_time": "2023-05-12T12:45:25.450Z"
   },
   {
    "duration": 15,
    "start_time": "2023-05-12T12:47:48.188Z"
   },
   {
    "duration": 13,
    "start_time": "2023-05-12T12:47:48.988Z"
   },
   {
    "duration": 17,
    "start_time": "2023-05-12T12:47:49.547Z"
   },
   {
    "duration": 3011,
    "start_time": "2023-05-12T12:47:50.078Z"
   },
   {
    "duration": 2768,
    "start_time": "2023-05-12T12:50:08.294Z"
   },
   {
    "duration": 1666,
    "start_time": "2023-05-18T18:56:28.825Z"
   },
   {
    "duration": 158,
    "start_time": "2023-05-18T18:56:31.112Z"
   },
   {
    "duration": 15,
    "start_time": "2023-05-18T18:56:32.345Z"
   },
   {
    "duration": 5,
    "start_time": "2023-05-18T18:56:33.419Z"
   },
   {
    "duration": 5,
    "start_time": "2023-05-18T18:56:34.088Z"
   },
   {
    "duration": 348,
    "start_time": "2023-05-18T18:56:34.713Z"
   },
   {
    "duration": 939,
    "start_time": "2023-05-18T18:56:39.213Z"
   },
   {
    "duration": 773,
    "start_time": "2023-05-18T18:56:48.317Z"
   },
   {
    "duration": 308,
    "start_time": "2023-05-18T18:56:53.860Z"
   },
   {
    "duration": 310,
    "start_time": "2023-05-18T18:56:57.264Z"
   },
   {
    "duration": 125,
    "start_time": "2023-05-18T18:57:01.743Z"
   },
   {
    "duration": 22,
    "start_time": "2023-05-18T18:57:03.210Z"
   },
   {
    "duration": 6,
    "start_time": "2023-05-18T18:57:04.264Z"
   },
   {
    "duration": 1501,
    "start_time": "2023-05-18T18:57:09.512Z"
   },
   {
    "duration": 46,
    "start_time": "2023-05-18T18:57:38.318Z"
   },
   {
    "duration": 12,
    "start_time": "2023-05-18T18:57:39.023Z"
   },
   {
    "duration": 7,
    "start_time": "2023-05-18T18:57:39.444Z"
   },
   {
    "duration": 1320,
    "start_time": "2023-05-18T18:57:39.993Z"
   },
   {
    "duration": 22,
    "start_time": "2023-05-18T19:11:20.568Z"
   },
   {
    "duration": 11,
    "start_time": "2023-05-18T19:12:08.980Z"
   },
   {
    "duration": 14,
    "start_time": "2023-05-18T19:12:09.644Z"
   },
   {
    "duration": 9,
    "start_time": "2023-05-18T19:12:10.154Z"
   },
   {
    "duration": 4145,
    "start_time": "2023-05-18T19:12:10.176Z"
   },
   {
    "duration": 37,
    "start_time": "2023-05-18T19:12:17.677Z"
   },
   {
    "duration": 1565,
    "start_time": "2023-05-18T19:12:29.348Z"
   },
   {
    "duration": 58,
    "start_time": "2023-05-18T19:12:30.918Z"
   },
   {
    "duration": 16,
    "start_time": "2023-05-18T19:12:31.921Z"
   },
   {
    "duration": 6,
    "start_time": "2023-05-18T19:12:32.124Z"
   },
   {
    "duration": 8,
    "start_time": "2023-05-18T19:12:32.514Z"
   },
   {
    "duration": 259,
    "start_time": "2023-05-18T19:12:32.919Z"
   },
   {
    "duration": 1027,
    "start_time": "2023-05-18T19:12:34.045Z"
   },
   {
    "duration": 693,
    "start_time": "2023-05-18T19:12:35.144Z"
   },
   {
    "duration": 366,
    "start_time": "2023-05-18T19:12:35.839Z"
   },
   {
    "duration": 351,
    "start_time": "2023-05-18T19:12:36.211Z"
   },
   {
    "duration": 16,
    "start_time": "2023-05-18T19:12:37.220Z"
   },
   {
    "duration": 10,
    "start_time": "2023-05-18T19:12:37.431Z"
   },
   {
    "duration": 8,
    "start_time": "2023-05-18T19:12:37.613Z"
   },
   {
    "duration": 55,
    "start_time": "2023-05-18T19:12:38.344Z"
   },
   {
    "duration": 279,
    "start_time": "2023-05-18T19:13:22.450Z"
   },
   {
    "duration": 80,
    "start_time": "2023-05-18T19:14:11.915Z"
   },
   {
    "duration": 22,
    "start_time": "2023-05-18T19:14:46.784Z"
   },
   {
    "duration": 28,
    "start_time": "2023-05-18T19:15:22.122Z"
   },
   {
    "duration": 12,
    "start_time": "2023-05-18T19:16:18.584Z"
   },
   {
    "duration": 9,
    "start_time": "2023-05-18T19:16:28.651Z"
   },
   {
    "duration": 6,
    "start_time": "2023-05-18T19:16:29.245Z"
   },
   {
    "duration": 13,
    "start_time": "2023-05-18T19:16:29.615Z"
   },
   {
    "duration": 149,
    "start_time": "2023-05-18T19:16:29.849Z"
   },
   {
    "duration": 9,
    "start_time": "2023-05-18T19:16:31.127Z"
   },
   {
    "duration": 116,
    "start_time": "2023-05-18T19:16:41.216Z"
   },
   {
    "duration": 25,
    "start_time": "2023-05-18T19:16:41.724Z"
   },
   {
    "duration": 7,
    "start_time": "2023-05-18T19:16:42.124Z"
   },
   {
    "duration": 6693,
    "start_time": "2023-05-18T19:16:42.525Z"
   },
   {
    "duration": 7,
    "start_time": "2023-05-18T19:16:58.879Z"
   },
   {
    "duration": 14,
    "start_time": "2023-05-18T19:16:59.527Z"
   },
   {
    "duration": 17,
    "start_time": "2023-05-18T19:16:59.693Z"
   },
   {
    "duration": 4639,
    "start_time": "2023-05-18T19:17:00.106Z"
   },
   {
    "duration": 4065,
    "start_time": "2023-05-18T19:17:07.541Z"
   },
   {
    "duration": 1503,
    "start_time": "2023-05-18T19:17:23.621Z"
   },
   {
    "duration": 60,
    "start_time": "2023-05-18T19:17:25.126Z"
   },
   {
    "duration": 29,
    "start_time": "2023-05-18T19:17:25.693Z"
   },
   {
    "duration": 6,
    "start_time": "2023-05-18T19:17:26.403Z"
   },
   {
    "duration": 4,
    "start_time": "2023-05-18T19:17:27.144Z"
   },
   {
    "duration": 232,
    "start_time": "2023-05-18T19:17:27.348Z"
   },
   {
    "duration": 904,
    "start_time": "2023-05-18T19:17:28.644Z"
   },
   {
    "duration": 665,
    "start_time": "2023-05-18T19:17:29.549Z"
   },
   {
    "duration": 355,
    "start_time": "2023-05-18T19:17:30.216Z"
   },
   {
    "duration": 357,
    "start_time": "2023-05-18T19:17:30.573Z"
   },
   {
    "duration": 13,
    "start_time": "2023-05-18T19:17:32.458Z"
   },
   {
    "duration": 16,
    "start_time": "2023-05-18T19:17:33.115Z"
   },
   {
    "duration": 10,
    "start_time": "2023-05-18T19:17:33.589Z"
   },
   {
    "duration": 90,
    "start_time": "2023-05-18T19:17:34.020Z"
   },
   {
    "duration": 8,
    "start_time": "2023-05-18T19:17:35.545Z"
   },
   {
    "duration": 16,
    "start_time": "2023-05-18T19:18:12.886Z"
   },
   {
    "duration": 8,
    "start_time": "2023-05-18T19:18:14.031Z"
   },
   {
    "duration": 9,
    "start_time": "2023-05-18T19:18:14.510Z"
   },
   {
    "duration": 80,
    "start_time": "2023-05-18T19:18:14.723Z"
   },
   {
    "duration": 10,
    "start_time": "2023-05-18T19:18:15.841Z"
   },
   {
    "duration": 1401,
    "start_time": "2023-05-18T19:18:25.329Z"
   },
   {
    "duration": 52,
    "start_time": "2023-05-18T19:18:26.732Z"
   },
   {
    "duration": 20,
    "start_time": "2023-05-18T19:18:27.314Z"
   },
   {
    "duration": 3,
    "start_time": "2023-05-18T19:18:27.686Z"
   },
   {
    "duration": 6,
    "start_time": "2023-05-18T19:18:28.222Z"
   },
   {
    "duration": 239,
    "start_time": "2023-05-18T19:18:28.632Z"
   },
   {
    "duration": 900,
    "start_time": "2023-05-18T19:18:29.372Z"
   },
   {
    "duration": 652,
    "start_time": "2023-05-18T19:18:30.274Z"
   },
   {
    "duration": 346,
    "start_time": "2023-05-18T19:18:30.931Z"
   },
   {
    "duration": 353,
    "start_time": "2023-05-18T19:18:31.279Z"
   },
   {
    "duration": 9,
    "start_time": "2023-05-18T19:18:32.246Z"
   },
   {
    "duration": 12,
    "start_time": "2023-05-18T19:18:32.914Z"
   },
   {
    "duration": 6,
    "start_time": "2023-05-18T19:18:33.189Z"
   },
   {
    "duration": 13,
    "start_time": "2023-05-18T19:18:33.869Z"
   },
   {
    "duration": 9,
    "start_time": "2023-05-18T19:18:34.848Z"
   },
   {
    "duration": 1406,
    "start_time": "2023-05-18T19:18:48.987Z"
   },
   {
    "duration": 75,
    "start_time": "2023-05-18T19:18:50.404Z"
   },
   {
    "duration": 8,
    "start_time": "2023-05-18T19:18:50.481Z"
   },
   {
    "duration": 44,
    "start_time": "2023-05-18T19:18:50.491Z"
   },
   {
    "duration": 6,
    "start_time": "2023-05-18T19:18:50.536Z"
   },
   {
    "duration": 243,
    "start_time": "2023-05-18T19:18:50.702Z"
   },
   {
    "duration": 996,
    "start_time": "2023-05-18T19:18:51.768Z"
   },
   {
    "duration": 672,
    "start_time": "2023-05-18T19:18:52.765Z"
   },
   {
    "duration": 390,
    "start_time": "2023-05-18T19:18:53.439Z"
   },
   {
    "duration": 371,
    "start_time": "2023-05-18T19:18:54.718Z"
   },
   {
    "duration": 11,
    "start_time": "2023-05-18T19:18:55.867Z"
   },
   {
    "duration": 15,
    "start_time": "2023-05-18T19:19:03.429Z"
   },
   {
    "duration": 9,
    "start_time": "2023-05-18T19:19:04.330Z"
   },
   {
    "duration": 69,
    "start_time": "2023-05-18T19:19:05.464Z"
   },
   {
    "duration": 11,
    "start_time": "2023-05-18T19:19:06.377Z"
   },
   {
    "duration": 35,
    "start_time": "2023-05-18T19:34:32.151Z"
   },
   {
    "duration": 11,
    "start_time": "2023-05-18T19:34:32.677Z"
   },
   {
    "duration": 6,
    "start_time": "2023-05-18T19:34:33.355Z"
   },
   {
    "duration": 375,
    "start_time": "2023-05-18T19:34:34.260Z"
   },
   {
    "duration": 11,
    "start_time": "2023-05-18T19:34:43.321Z"
   },
   {
    "duration": 8,
    "start_time": "2023-05-18T19:34:43.583Z"
   },
   {
    "duration": 5,
    "start_time": "2023-05-18T19:34:43.748Z"
   },
   {
    "duration": 510,
    "start_time": "2023-05-18T19:34:44.392Z"
   },
   {
    "duration": 1508,
    "start_time": "2023-05-18T19:34:53.881Z"
   },
   {
    "duration": 67,
    "start_time": "2023-05-18T19:34:55.391Z"
   },
   {
    "duration": 10,
    "start_time": "2023-05-18T19:34:55.459Z"
   },
   {
    "duration": 4,
    "start_time": "2023-05-18T19:34:55.470Z"
   },
   {
    "duration": 10,
    "start_time": "2023-05-18T19:34:55.475Z"
   },
   {
    "duration": 234,
    "start_time": "2023-05-18T19:34:56.115Z"
   },
   {
    "duration": 976,
    "start_time": "2023-05-18T19:34:56.876Z"
   },
   {
    "duration": 673,
    "start_time": "2023-05-18T19:34:57.853Z"
   },
   {
    "duration": 331,
    "start_time": "2023-05-18T19:34:58.528Z"
   },
   {
    "duration": 312,
    "start_time": "2023-05-18T19:34:58.861Z"
   },
   {
    "duration": 33,
    "start_time": "2023-05-18T19:34:59.591Z"
   },
   {
    "duration": 10,
    "start_time": "2023-05-18T19:35:00.220Z"
   },
   {
    "duration": 5,
    "start_time": "2023-05-18T19:35:00.453Z"
   },
   {
    "duration": 182,
    "start_time": "2023-05-18T19:35:01.425Z"
   },
   {
    "duration": 12,
    "start_time": "2023-05-18T19:35:05.118Z"
   },
   {
    "duration": 1556,
    "start_time": "2023-05-18T19:35:45.958Z"
   },
   {
    "duration": 55,
    "start_time": "2023-05-18T19:35:47.523Z"
   },
   {
    "duration": 10,
    "start_time": "2023-05-18T19:35:47.579Z"
   },
   {
    "duration": 5,
    "start_time": "2023-05-18T19:35:47.592Z"
   },
   {
    "duration": 29,
    "start_time": "2023-05-18T19:35:47.599Z"
   },
   {
    "duration": 279,
    "start_time": "2023-05-18T19:35:47.890Z"
   },
   {
    "duration": 959,
    "start_time": "2023-05-18T19:35:48.720Z"
   },
   {
    "duration": 663,
    "start_time": "2023-05-18T19:35:49.681Z"
   },
   {
    "duration": 332,
    "start_time": "2023-05-18T19:35:50.346Z"
   },
   {
    "duration": 335,
    "start_time": "2023-05-18T19:35:50.680Z"
   },
   {
    "duration": 15,
    "start_time": "2023-05-18T19:35:51.018Z"
   },
   {
    "duration": 9,
    "start_time": "2023-05-18T19:35:51.418Z"
   },
   {
    "duration": 23,
    "start_time": "2023-05-18T19:35:51.697Z"
   },
   {
    "duration": 112,
    "start_time": "2023-05-18T19:35:52.492Z"
   },
   {
    "duration": 22,
    "start_time": "2023-05-18T19:35:56.207Z"
   },
   {
    "duration": 27,
    "start_time": "2023-05-18T19:36:19.193Z"
   },
   {
    "duration": 7,
    "start_time": "2023-05-18T19:36:19.378Z"
   },
   {
    "duration": 5,
    "start_time": "2023-05-18T19:36:19.556Z"
   },
   {
    "duration": 83,
    "start_time": "2023-05-18T19:36:20.345Z"
   },
   {
    "duration": 20,
    "start_time": "2023-05-18T19:36:23.421Z"
   },
   {
    "duration": 171,
    "start_time": "2023-05-18T19:42:11.326Z"
   },
   {
    "duration": 3,
    "start_time": "2023-05-18T19:42:59.679Z"
   },
   {
    "duration": 67,
    "start_time": "2023-05-18T19:43:04.747Z"
   },
   {
    "duration": 29,
    "start_time": "2023-05-18T19:43:26.515Z"
   },
   {
    "duration": 84,
    "start_time": "2023-05-18T19:43:31.079Z"
   },
   {
    "duration": 1668,
    "start_time": "2023-05-20T15:58:57.063Z"
   },
   {
    "duration": 8,
    "start_time": "2023-05-20T15:59:24.699Z"
   },
   {
    "duration": 206,
    "start_time": "2023-05-20T15:59:25.172Z"
   },
   {
    "duration": 12,
    "start_time": "2023-05-20T15:59:26.060Z"
   },
   {
    "duration": 3,
    "start_time": "2023-05-20T15:59:26.664Z"
   },
   {
    "duration": 7,
    "start_time": "2023-05-20T15:59:27.066Z"
   },
   {
    "duration": 225,
    "start_time": "2023-05-20T15:59:27.614Z"
   },
   {
    "duration": 917,
    "start_time": "2023-05-20T15:59:28.820Z"
   },
   {
    "duration": 651,
    "start_time": "2023-05-20T15:59:29.739Z"
   },
   {
    "duration": 300,
    "start_time": "2023-05-20T15:59:30.391Z"
   },
   {
    "duration": 316,
    "start_time": "2023-05-20T15:59:30.696Z"
   },
   {
    "duration": 14,
    "start_time": "2023-05-20T15:59:31.461Z"
   },
   {
    "duration": 7,
    "start_time": "2023-05-20T15:59:33.774Z"
   },
   {
    "duration": 6,
    "start_time": "2023-05-20T15:59:34.466Z"
   },
   {
    "duration": 115,
    "start_time": "2023-05-20T15:59:37.244Z"
   },
   {
    "duration": 3,
    "start_time": "2023-05-20T16:00:00.961Z"
   },
   {
    "duration": 4,
    "start_time": "2023-05-20T16:00:05.869Z"
   },
   {
    "duration": 16,
    "start_time": "2023-05-20T16:00:07.877Z"
   },
   {
    "duration": 621,
    "start_time": "2023-05-20T16:00:32.783Z"
   },
   {
    "duration": 41,
    "start_time": "2023-05-20T16:00:47.362Z"
   },
   {
    "duration": 58,
    "start_time": "2023-05-20T16:01:47.167Z"
   },
   {
    "duration": 139,
    "start_time": "2023-05-20T16:01:53.779Z"
   },
   {
    "duration": 355,
    "start_time": "2023-05-20T16:02:43.853Z"
   },
   {
    "duration": 437,
    "start_time": "2023-05-20T16:03:15.478Z"
   },
   {
    "duration": 1399,
    "start_time": "2023-05-20T16:03:35.027Z"
   },
   {
    "duration": 54,
    "start_time": "2023-05-20T16:03:36.428Z"
   },
   {
    "duration": 8,
    "start_time": "2023-05-20T16:03:36.484Z"
   },
   {
    "duration": 13,
    "start_time": "2023-05-20T16:03:36.494Z"
   },
   {
    "duration": 11,
    "start_time": "2023-05-20T16:03:36.511Z"
   },
   {
    "duration": 224,
    "start_time": "2023-05-20T16:03:36.789Z"
   },
   {
    "duration": 864,
    "start_time": "2023-05-20T16:03:37.589Z"
   },
   {
    "duration": 655,
    "start_time": "2023-05-20T16:03:38.455Z"
   },
   {
    "duration": 308,
    "start_time": "2023-05-20T16:03:39.112Z"
   },
   {
    "duration": 296,
    "start_time": "2023-05-20T16:03:39.422Z"
   },
   {
    "duration": 14,
    "start_time": "2023-05-20T16:03:39.719Z"
   },
   {
    "duration": 7,
    "start_time": "2023-05-20T16:03:40.414Z"
   },
   {
    "duration": 6,
    "start_time": "2023-05-20T16:03:40.664Z"
   },
   {
    "duration": 4,
    "start_time": "2023-05-20T16:03:41.467Z"
   },
   {
    "duration": 636,
    "start_time": "2023-05-20T16:03:42.164Z"
   },
   {
    "duration": 159,
    "start_time": "2023-05-20T16:04:10.965Z"
   },
   {
    "duration": 172,
    "start_time": "2023-05-20T16:05:09.252Z"
   },
   {
    "duration": 114,
    "start_time": "2023-05-20T16:05:56.890Z"
   },
   {
    "duration": 250,
    "start_time": "2023-05-20T16:06:30.361Z"
   },
   {
    "duration": 178,
    "start_time": "2023-05-20T16:13:37.357Z"
   },
   {
    "duration": 3,
    "start_time": "2023-05-20T16:13:45.180Z"
   },
   {
    "duration": 186239,
    "start_time": "2023-05-20T16:13:50.400Z"
   },
   {
    "duration": 1386,
    "start_time": "2023-05-20T16:20:30.080Z"
   },
   {
    "duration": 65,
    "start_time": "2023-05-20T16:20:33.784Z"
   },
   {
    "duration": 11,
    "start_time": "2023-05-20T16:20:34.180Z"
   },
   {
    "duration": 4,
    "start_time": "2023-05-20T16:20:34.793Z"
   },
   {
    "duration": 4,
    "start_time": "2023-05-20T16:20:35.164Z"
   },
   {
    "duration": 268,
    "start_time": "2023-05-20T16:20:35.470Z"
   },
   {
    "duration": 873,
    "start_time": "2023-05-20T16:20:36.253Z"
   },
   {
    "duration": 707,
    "start_time": "2023-05-20T16:20:37.130Z"
   },
   {
    "duration": 322,
    "start_time": "2023-05-20T16:20:37.838Z"
   },
   {
    "duration": 374,
    "start_time": "2023-05-20T16:20:38.162Z"
   },
   {
    "duration": 15,
    "start_time": "2023-05-20T16:20:38.772Z"
   },
   {
    "duration": 7,
    "start_time": "2023-05-20T16:20:39.568Z"
   },
   {
    "duration": 5,
    "start_time": "2023-05-20T16:20:39.724Z"
   },
   {
    "duration": 3,
    "start_time": "2023-05-20T16:20:40.452Z"
   },
   {
    "duration": 541,
    "start_time": "2023-05-20T16:20:42.086Z"
   },
   {
    "duration": 206811,
    "start_time": "2023-05-20T16:20:44.424Z"
   },
   {
    "duration": 1423,
    "start_time": "2023-05-20T16:26:10.767Z"
   },
   {
    "duration": 66,
    "start_time": "2023-05-20T16:26:13.756Z"
   },
   {
    "duration": 13,
    "start_time": "2023-05-20T16:26:14.522Z"
   },
   {
    "duration": 3,
    "start_time": "2023-05-20T16:26:14.922Z"
   },
   {
    "duration": 23,
    "start_time": "2023-05-20T16:26:15.397Z"
   },
   {
    "duration": 239,
    "start_time": "2023-05-20T16:26:15.777Z"
   },
   {
    "duration": 955,
    "start_time": "2023-05-20T16:26:16.561Z"
   },
   {
    "duration": 638,
    "start_time": "2023-05-20T16:26:17.518Z"
   },
   {
    "duration": 318,
    "start_time": "2023-05-20T16:26:18.158Z"
   },
   {
    "duration": 331,
    "start_time": "2023-05-20T16:26:18.478Z"
   },
   {
    "duration": 18,
    "start_time": "2023-05-20T16:26:18.817Z"
   },
   {
    "duration": 6,
    "start_time": "2023-05-20T16:26:18.836Z"
   },
   {
    "duration": 7,
    "start_time": "2023-05-20T16:26:19.092Z"
   },
   {
    "duration": 3,
    "start_time": "2023-05-20T16:26:19.526Z"
   },
   {
    "duration": 586,
    "start_time": "2023-05-20T16:26:20.916Z"
   },
   {
    "duration": 202018,
    "start_time": "2023-05-20T16:26:21.768Z"
   },
   {
    "duration": 3,
    "start_time": "2023-05-20T16:34:43.467Z"
   },
   {
    "duration": 1861,
    "start_time": "2023-05-20T16:38:52.848Z"
   },
   {
    "duration": 4,
    "start_time": "2023-05-20T16:39:25.007Z"
   },
   {
    "duration": 2284,
    "start_time": "2023-05-20T16:39:29.716Z"
   },
   {
    "duration": 862,
    "start_time": "2023-05-20T16:39:52.861Z"
   },
   {
    "duration": 682,
    "start_time": "2023-05-20T16:40:16.715Z"
   },
   {
    "duration": 162,
    "start_time": "2023-05-20T16:42:32.777Z"
   },
   {
    "duration": 3,
    "start_time": "2023-05-20T16:42:43.871Z"
   },
   {
    "duration": 2402,
    "start_time": "2023-05-20T16:42:49.910Z"
   },
   {
    "duration": 1388,
    "start_time": "2023-05-20T16:43:34.128Z"
   },
   {
    "duration": 54,
    "start_time": "2023-05-20T16:43:35.523Z"
   },
   {
    "duration": 11,
    "start_time": "2023-05-20T16:43:36.463Z"
   },
   {
    "duration": 4,
    "start_time": "2023-05-20T16:43:36.867Z"
   },
   {
    "duration": 4,
    "start_time": "2023-05-20T16:43:37.204Z"
   },
   {
    "duration": 250,
    "start_time": "2023-05-20T16:43:37.572Z"
   },
   {
    "duration": 904,
    "start_time": "2023-05-20T16:43:38.312Z"
   },
   {
    "duration": 641,
    "start_time": "2023-05-20T16:43:39.217Z"
   },
   {
    "duration": 338,
    "start_time": "2023-05-20T16:43:39.860Z"
   },
   {
    "duration": 300,
    "start_time": "2023-05-20T16:43:40.202Z"
   },
   {
    "duration": 16,
    "start_time": "2023-05-20T16:43:40.508Z"
   },
   {
    "duration": 9,
    "start_time": "2023-05-20T16:43:40.525Z"
   },
   {
    "duration": 6,
    "start_time": "2023-05-20T16:43:40.658Z"
   },
   {
    "duration": 3,
    "start_time": "2023-05-20T16:43:41.578Z"
   },
   {
    "duration": 546,
    "start_time": "2023-05-20T16:43:42.167Z"
   },
   {
    "duration": 4,
    "start_time": "2023-05-20T16:43:58.420Z"
   },
   {
    "duration": 148,
    "start_time": "2023-05-20T16:43:59.455Z"
   },
   {
    "duration": 832,
    "start_time": "2023-05-20T16:44:03.384Z"
   },
   {
    "duration": 2094,
    "start_time": "2023-05-20T16:44:10.814Z"
   },
   {
    "duration": 192480,
    "start_time": "2023-05-20T16:44:15.884Z"
   },
   {
    "duration": 90,
    "start_time": "2023-05-20T16:49:25.110Z"
   },
   {
    "duration": 80,
    "start_time": "2023-05-20T16:49:26.391Z"
   },
   {
    "duration": 29,
    "start_time": "2023-05-20T16:50:09.020Z"
   },
   {
    "duration": 38,
    "start_time": "2023-05-20T16:50:18.191Z"
   },
   {
    "duration": 28,
    "start_time": "2023-05-20T16:50:38.011Z"
   },
   {
    "duration": 9,
    "start_time": "2023-05-20T16:53:15.116Z"
   },
   {
    "duration": 1387,
    "start_time": "2023-05-20T16:53:39.372Z"
   },
   {
    "duration": 61,
    "start_time": "2023-05-20T16:53:40.762Z"
   },
   {
    "duration": 11,
    "start_time": "2023-05-20T16:53:40.825Z"
   },
   {
    "duration": 3,
    "start_time": "2023-05-20T16:53:41.472Z"
   },
   {
    "duration": 5,
    "start_time": "2023-05-20T16:53:41.810Z"
   },
   {
    "duration": 219,
    "start_time": "2023-05-20T16:53:42.155Z"
   },
   {
    "duration": 875,
    "start_time": "2023-05-20T16:53:42.860Z"
   },
   {
    "duration": 651,
    "start_time": "2023-05-20T16:53:43.737Z"
   },
   {
    "duration": 330,
    "start_time": "2023-05-20T16:53:44.390Z"
   },
   {
    "duration": 314,
    "start_time": "2023-05-20T16:53:44.722Z"
   },
   {
    "duration": 14,
    "start_time": "2023-05-20T16:53:45.038Z"
   },
   {
    "duration": 18,
    "start_time": "2023-05-20T16:53:45.054Z"
   },
   {
    "duration": 28,
    "start_time": "2023-05-20T16:53:45.074Z"
   },
   {
    "duration": 21,
    "start_time": "2023-05-20T16:53:45.103Z"
   },
   {
    "duration": 562,
    "start_time": "2023-05-20T16:53:46.064Z"
   },
   {
    "duration": 979,
    "start_time": "2023-05-20T16:53:46.628Z"
   },
   {
    "duration": 2418,
    "start_time": "2023-05-20T16:53:47.612Z"
   },
   {
    "duration": 210064,
    "start_time": "2023-05-20T16:53:50.099Z"
   },
   {
    "duration": 57,
    "start_time": "2023-05-20T16:57:20.175Z"
   },
   {
    "duration": 16,
    "start_time": "2023-05-20T16:58:39.033Z"
   },
   {
    "duration": 9,
    "start_time": "2023-05-20T16:59:33.787Z"
   },
   {
    "duration": 36,
    "start_time": "2023-05-20T17:08:57.076Z"
   },
   {
    "duration": 42,
    "start_time": "2023-05-20T17:09:10.478Z"
   },
   {
    "duration": 23,
    "start_time": "2023-05-20T17:09:22.136Z"
   },
   {
    "duration": 1360,
    "start_time": "2023-05-20T17:13:02.773Z"
   },
   {
    "duration": 53,
    "start_time": "2023-05-20T17:13:04.136Z"
   },
   {
    "duration": 18,
    "start_time": "2023-05-20T17:13:04.190Z"
   },
   {
    "duration": 16,
    "start_time": "2023-05-20T17:13:04.216Z"
   },
   {
    "duration": 4,
    "start_time": "2023-05-20T17:13:04.322Z"
   },
   {
    "duration": 239,
    "start_time": "2023-05-20T17:13:04.879Z"
   },
   {
    "duration": 979,
    "start_time": "2023-05-20T17:13:05.755Z"
   },
   {
    "duration": 733,
    "start_time": "2023-05-20T17:13:06.736Z"
   },
   {
    "duration": 353,
    "start_time": "2023-05-20T17:13:07.471Z"
   },
   {
    "duration": 337,
    "start_time": "2023-05-20T17:13:07.827Z"
   },
   {
    "duration": 15,
    "start_time": "2023-05-20T17:13:08.166Z"
   },
   {
    "duration": 22,
    "start_time": "2023-05-20T17:13:08.182Z"
   },
   {
    "duration": 8,
    "start_time": "2023-05-20T17:13:08.418Z"
   },
   {
    "duration": 3,
    "start_time": "2023-05-20T17:13:08.623Z"
   },
   {
    "duration": 488,
    "start_time": "2023-05-20T17:13:10.420Z"
   },
   {
    "duration": 753,
    "start_time": "2023-05-20T17:13:11.570Z"
   },
   {
    "duration": 2306,
    "start_time": "2023-05-20T17:13:12.709Z"
   },
   {
    "duration": 1447,
    "start_time": "2023-05-20T17:13:53.423Z"
   },
   {
    "duration": 97,
    "start_time": "2023-05-20T17:13:55.428Z"
   },
   {
    "duration": 11,
    "start_time": "2023-05-20T17:13:55.814Z"
   },
   {
    "duration": 4,
    "start_time": "2023-05-20T17:13:56.272Z"
   },
   {
    "duration": 4,
    "start_time": "2023-05-20T17:13:56.614Z"
   },
   {
    "duration": 270,
    "start_time": "2023-05-20T17:13:56.981Z"
   },
   {
    "duration": 952,
    "start_time": "2023-05-20T17:13:58.074Z"
   },
   {
    "duration": 687,
    "start_time": "2023-05-20T17:13:59.029Z"
   },
   {
    "duration": 321,
    "start_time": "2023-05-20T17:13:59.720Z"
   },
   {
    "duration": 331,
    "start_time": "2023-05-20T17:14:01.021Z"
   },
   {
    "duration": 11,
    "start_time": "2023-05-20T17:14:02.572Z"
   },
   {
    "duration": 7,
    "start_time": "2023-05-20T17:14:04.126Z"
   },
   {
    "duration": 6,
    "start_time": "2023-05-20T17:14:04.479Z"
   },
   {
    "duration": 5,
    "start_time": "2023-05-20T17:14:04.816Z"
   },
   {
    "duration": 430,
    "start_time": "2023-05-20T17:14:06.474Z"
   },
   {
    "duration": 909,
    "start_time": "2023-05-20T17:14:09.622Z"
   },
   {
    "duration": 2029,
    "start_time": "2023-05-20T17:14:12.477Z"
   },
   {
    "duration": 245,
    "start_time": "2023-05-20T17:14:23.875Z"
   },
   {
    "duration": 44,
    "start_time": "2023-05-20T17:14:33.796Z"
   },
   {
    "duration": 1486,
    "start_time": "2023-05-20T17:15:04.656Z"
   },
   {
    "duration": 66,
    "start_time": "2023-05-20T17:15:06.144Z"
   },
   {
    "duration": 17,
    "start_time": "2023-05-20T17:15:06.214Z"
   },
   {
    "duration": 4,
    "start_time": "2023-05-20T17:15:06.232Z"
   },
   {
    "duration": 21,
    "start_time": "2023-05-20T17:15:06.237Z"
   },
   {
    "duration": 238,
    "start_time": "2023-05-20T17:15:06.327Z"
   },
   {
    "duration": 935,
    "start_time": "2023-05-20T17:15:07.194Z"
   },
   {
    "duration": 698,
    "start_time": "2023-05-20T17:15:08.131Z"
   },
   {
    "duration": 308,
    "start_time": "2023-05-20T17:15:08.831Z"
   },
   {
    "duration": 334,
    "start_time": "2023-05-20T17:15:09.141Z"
   },
   {
    "duration": 12,
    "start_time": "2023-05-20T17:15:09.476Z"
   },
   {
    "duration": 17,
    "start_time": "2023-05-20T17:15:09.500Z"
   },
   {
    "duration": 5,
    "start_time": "2023-05-20T17:15:10.359Z"
   },
   {
    "duration": 3,
    "start_time": "2023-05-20T17:15:10.922Z"
   },
   {
    "duration": 402,
    "start_time": "2023-05-20T17:15:12.623Z"
   },
   {
    "duration": 12,
    "start_time": "2023-05-20T17:15:23.060Z"
   },
   {
    "duration": 8,
    "start_time": "2023-05-20T17:15:23.267Z"
   },
   {
    "duration": 6,
    "start_time": "2023-05-20T17:15:23.429Z"
   },
   {
    "duration": 5,
    "start_time": "2023-05-20T17:15:23.601Z"
   },
   {
    "duration": 446,
    "start_time": "2023-05-20T17:15:24.064Z"
   },
   {
    "duration": 851,
    "start_time": "2023-05-20T17:15:27.262Z"
   },
   {
    "duration": 2254,
    "start_time": "2023-05-20T17:15:34.070Z"
   },
   {
    "duration": 82,
    "start_time": "2023-05-20T17:15:42.022Z"
   },
   {
    "duration": 1397,
    "start_time": "2023-05-20T17:15:52.380Z"
   },
   {
    "duration": 62,
    "start_time": "2023-05-20T17:15:53.779Z"
   },
   {
    "duration": 10,
    "start_time": "2023-05-20T17:15:53.842Z"
   },
   {
    "duration": 8,
    "start_time": "2023-05-20T17:15:53.853Z"
   },
   {
    "duration": 7,
    "start_time": "2023-05-20T17:15:53.863Z"
   },
   {
    "duration": 228,
    "start_time": "2023-05-20T17:15:54.022Z"
   },
   {
    "duration": 899,
    "start_time": "2023-05-20T17:15:54.787Z"
   },
   {
    "duration": 654,
    "start_time": "2023-05-20T17:15:55.688Z"
   },
   {
    "duration": 389,
    "start_time": "2023-05-20T17:15:56.343Z"
   },
   {
    "duration": 402,
    "start_time": "2023-05-20T17:15:56.734Z"
   },
   {
    "duration": 18,
    "start_time": "2023-05-20T17:15:57.139Z"
   },
   {
    "duration": 7,
    "start_time": "2023-05-20T17:15:57.159Z"
   },
   {
    "duration": 11,
    "start_time": "2023-05-20T17:15:57.167Z"
   },
   {
    "duration": 7,
    "start_time": "2023-05-20T17:15:57.321Z"
   },
   {
    "duration": 742,
    "start_time": "2023-05-20T17:15:57.771Z"
   },
   {
    "duration": 1392,
    "start_time": "2023-05-20T17:15:58.516Z"
   },
   {
    "duration": 2013,
    "start_time": "2023-05-20T17:15:59.909Z"
   },
   {
    "duration": 223743,
    "start_time": "2023-05-20T17:16:01.998Z"
   },
   {
    "duration": 17,
    "start_time": "2023-05-20T17:19:57.701Z"
   },
   {
    "duration": 48,
    "start_time": "2023-05-20T17:20:32.870Z"
   },
   {
    "duration": 55,
    "start_time": "2023-05-20T17:20:57.562Z"
   },
   {
    "duration": 36,
    "start_time": "2023-05-20T17:21:28.673Z"
   },
   {
    "duration": 1675,
    "start_time": "2023-05-21T17:03:22.224Z"
   },
   {
    "duration": 152,
    "start_time": "2023-05-21T17:07:19.270Z"
   },
   {
    "duration": 11,
    "start_time": "2023-05-21T17:07:24.278Z"
   },
   {
    "duration": 3,
    "start_time": "2023-05-21T17:07:28.654Z"
   },
   {
    "duration": 4,
    "start_time": "2023-05-21T17:07:32.309Z"
   },
   {
    "duration": 255,
    "start_time": "2023-05-21T17:08:40.503Z"
   },
   {
    "duration": 309,
    "start_time": "2023-05-21T17:14:06.698Z"
   },
   {
    "duration": 883,
    "start_time": "2023-05-21T17:23:07.966Z"
   },
   {
    "duration": 625,
    "start_time": "2023-05-21T17:23:21.070Z"
   },
   {
    "duration": 613,
    "start_time": "2023-05-21T17:25:39.260Z"
   },
   {
    "duration": 1603,
    "start_time": "2023-05-21T17:32:08.666Z"
   },
   {
    "duration": 57,
    "start_time": "2023-05-21T17:32:10.271Z"
   },
   {
    "duration": 15,
    "start_time": "2023-05-21T17:32:10.330Z"
   },
   {
    "duration": 4,
    "start_time": "2023-05-21T17:32:10.489Z"
   },
   {
    "duration": 5,
    "start_time": "2023-05-21T17:32:10.955Z"
   },
   {
    "duration": 239,
    "start_time": "2023-05-21T17:32:11.313Z"
   },
   {
    "duration": 930,
    "start_time": "2023-05-21T17:32:13.063Z"
   },
   {
    "duration": 660,
    "start_time": "2023-05-21T17:32:23.769Z"
   },
   {
    "duration": 355,
    "start_time": "2023-05-21T17:39:17.902Z"
   },
   {
    "duration": 301,
    "start_time": "2023-05-21T17:39:26.162Z"
   },
   {
    "duration": 18,
    "start_time": "2023-05-21T17:46:40.566Z"
   },
   {
    "duration": 9,
    "start_time": "2023-05-21T17:46:45.289Z"
   },
   {
    "duration": 6,
    "start_time": "2023-05-21T17:46:46.485Z"
   },
   {
    "duration": 3,
    "start_time": "2023-05-21T17:47:29.748Z"
   },
   {
    "duration": 553,
    "start_time": "2023-05-21T17:49:55.616Z"
   },
   {
    "duration": 1012,
    "start_time": "2023-05-21T17:50:00.847Z"
   },
   {
    "duration": 1760,
    "start_time": "2023-05-21T17:50:03.901Z"
   },
   {
    "duration": 224028,
    "start_time": "2023-05-21T17:50:12.905Z"
   },
   {
    "duration": 9,
    "start_time": "2023-05-21T17:54:42.885Z"
   },
   {
    "duration": 37,
    "start_time": "2023-05-21T18:01:13.945Z"
   },
   {
    "duration": 71,
    "start_time": "2023-05-21T18:22:10.374Z"
   },
   {
    "duration": 1497,
    "start_time": "2023-05-21T18:28:25.686Z"
   },
   {
    "duration": 62,
    "start_time": "2023-05-21T18:28:27.185Z"
   },
   {
    "duration": 21,
    "start_time": "2023-05-21T18:28:27.249Z"
   },
   {
    "duration": 3,
    "start_time": "2023-05-21T18:28:27.276Z"
   },
   {
    "duration": 5,
    "start_time": "2023-05-21T18:28:27.333Z"
   },
   {
    "duration": 261,
    "start_time": "2023-05-21T18:28:27.732Z"
   },
   {
    "duration": 1081,
    "start_time": "2023-05-21T18:28:28.672Z"
   },
   {
    "duration": 691,
    "start_time": "2023-05-21T18:28:29.756Z"
   },
   {
    "duration": 340,
    "start_time": "2023-05-21T18:28:30.449Z"
   },
   {
    "duration": 365,
    "start_time": "2023-05-21T18:28:31.474Z"
   },
   {
    "duration": 17,
    "start_time": "2023-05-21T18:28:32.312Z"
   },
   {
    "duration": 9,
    "start_time": "2023-05-21T18:28:32.769Z"
   },
   {
    "duration": 6,
    "start_time": "2023-05-21T18:28:33.580Z"
   },
   {
    "duration": 9,
    "start_time": "2023-05-21T18:28:34.071Z"
   },
   {
    "duration": 677,
    "start_time": "2023-05-21T18:28:34.902Z"
   },
   {
    "duration": 710,
    "start_time": "2023-05-21T18:28:35.759Z"
   },
   {
    "duration": 2712,
    "start_time": "2023-05-21T18:28:37.759Z"
   },
   {
    "duration": 247782,
    "start_time": "2023-05-21T18:28:41.270Z"
   },
   {
    "duration": 17,
    "start_time": "2023-05-21T18:32:49.054Z"
   },
   {
    "duration": 105,
    "start_time": "2023-05-21T18:32:49.074Z"
   },
   {
    "duration": 2134,
    "start_time": "2023-05-22T05:46:06.220Z"
   },
   {
    "duration": 144,
    "start_time": "2023-05-22T05:46:08.357Z"
   },
   {
    "duration": 19,
    "start_time": "2023-05-22T05:46:08.510Z"
   },
   {
    "duration": 3,
    "start_time": "2023-05-22T05:46:08.531Z"
   },
   {
    "duration": 6,
    "start_time": "2023-05-22T05:46:08.536Z"
   },
   {
    "duration": 243,
    "start_time": "2023-05-22T05:46:08.543Z"
   },
   {
    "duration": 968,
    "start_time": "2023-05-22T05:46:08.788Z"
   },
   {
    "duration": 690,
    "start_time": "2023-05-22T05:46:09.757Z"
   },
   {
    "duration": 323,
    "start_time": "2023-05-22T05:46:10.448Z"
   },
   {
    "duration": 337,
    "start_time": "2023-05-22T05:46:10.773Z"
   },
   {
    "duration": 16,
    "start_time": "2023-05-22T05:46:11.122Z"
   },
   {
    "duration": 7,
    "start_time": "2023-05-22T05:46:11.139Z"
   },
   {
    "duration": 4,
    "start_time": "2023-05-22T05:46:11.148Z"
   },
   {
    "duration": 5,
    "start_time": "2023-05-22T05:46:11.154Z"
   },
   {
    "duration": 754,
    "start_time": "2023-05-22T05:46:11.160Z"
   },
   {
    "duration": 607,
    "start_time": "2023-05-22T05:46:11.916Z"
   },
   {
    "duration": 2406,
    "start_time": "2023-05-22T05:46:12.526Z"
   },
   {
    "duration": 350906,
    "start_time": "2023-05-22T05:46:14.996Z"
   },
   {
    "duration": 15,
    "start_time": "2023-05-22T05:52:05.904Z"
   },
   {
    "duration": 84,
    "start_time": "2023-05-22T05:52:05.922Z"
   },
   {
    "duration": 140,
    "start_time": "2023-05-22T06:32:23.827Z"
   },
   {
    "duration": 5462,
    "start_time": "2023-05-22T06:32:49.944Z"
   },
   {
    "duration": 354,
    "start_time": "2023-05-22T06:37:15.172Z"
   },
   {
    "duration": 1557,
    "start_time": "2023-05-22T14:17:33.489Z"
   },
   {
    "duration": 146,
    "start_time": "2023-05-22T14:17:35.572Z"
   },
   {
    "duration": 10,
    "start_time": "2023-05-22T14:17:36.387Z"
   },
   {
    "duration": 2,
    "start_time": "2023-05-22T14:17:36.800Z"
   },
   {
    "duration": 4,
    "start_time": "2023-05-22T14:17:37.256Z"
   },
   {
    "duration": 203,
    "start_time": "2023-05-22T14:17:37.637Z"
   },
   {
    "duration": 281,
    "start_time": "2023-05-22T14:18:10.183Z"
   },
   {
    "duration": 205,
    "start_time": "2023-05-22T14:18:21.220Z"
   },
   {
    "duration": 194,
    "start_time": "2023-05-22T14:19:07.867Z"
   },
   {
    "duration": 810,
    "start_time": "2023-05-22T14:20:16.503Z"
   },
   {
    "duration": 199,
    "start_time": "2023-05-22T14:21:23.320Z"
   },
   {
    "duration": 585,
    "start_time": "2023-05-22T14:21:35.824Z"
   },
   {
    "duration": 488,
    "start_time": "2023-05-22T14:21:56.040Z"
   },
   {
    "duration": 609,
    "start_time": "2023-05-22T14:22:48.586Z"
   },
   {
    "duration": 463,
    "start_time": "2023-05-22T14:30:23.772Z"
   },
   {
    "duration": 599,
    "start_time": "2023-05-22T14:33:15.166Z"
   },
   {
    "duration": 366,
    "start_time": "2023-05-22T14:33:18.431Z"
   },
   {
    "duration": 2507,
    "start_time": "2023-05-22T14:34:32.605Z"
   },
   {
    "duration": 4,
    "start_time": "2023-05-22T14:39:22.206Z"
   },
   {
    "duration": 1912,
    "start_time": "2023-05-22T14:40:35.605Z"
   },
   {
    "duration": 2383,
    "start_time": "2023-05-22T14:41:02.525Z"
   },
   {
    "duration": 1436,
    "start_time": "2023-05-22T14:41:33.071Z"
   },
   {
    "duration": 1453,
    "start_time": "2023-05-22T14:42:33.754Z"
   },
   {
    "duration": 233,
    "start_time": "2023-05-22T14:43:26.845Z"
   },
   {
    "duration": 3,
    "start_time": "2023-05-22T14:44:14.994Z"
   },
   {
    "duration": 277,
    "start_time": "2023-05-22T14:44:23.182Z"
   },
   {
    "duration": 14,
    "start_time": "2023-05-22T14:45:04.497Z"
   },
   {
    "duration": 223,
    "start_time": "2023-05-22T14:45:06.551Z"
   },
   {
    "duration": 8,
    "start_time": "2023-05-22T14:45:09.192Z"
   },
   {
    "duration": 5,
    "start_time": "2023-05-22T14:45:10.661Z"
   },
   {
    "duration": 2,
    "start_time": "2023-05-22T14:45:13.012Z"
   },
   {
    "duration": 186,
    "start_time": "2023-05-22T14:45:18.821Z"
   },
   {
    "duration": 460,
    "start_time": "2023-05-22T14:45:22.555Z"
   },
   {
    "duration": 2096,
    "start_time": "2023-05-22T14:45:26.010Z"
   },
   {
    "duration": 136,
    "start_time": "2023-05-22T14:49:27.733Z"
   },
   {
    "duration": 1648,
    "start_time": "2023-05-22T17:07:00.419Z"
   },
   {
    "duration": 150,
    "start_time": "2023-05-22T17:07:02.069Z"
   },
   {
    "duration": 15,
    "start_time": "2023-05-22T17:07:09.833Z"
   },
   {
    "duration": 3,
    "start_time": "2023-05-22T17:07:10.477Z"
   },
   {
    "duration": 5,
    "start_time": "2023-05-22T17:07:10.976Z"
   },
   {
    "duration": 273,
    "start_time": "2023-05-22T17:07:11.336Z"
   },
   {
    "duration": 999,
    "start_time": "2023-05-22T17:07:28.244Z"
   },
   {
    "duration": 545,
    "start_time": "2023-05-22T17:07:29.863Z"
   },
   {
    "duration": 696,
    "start_time": "2023-05-22T17:07:51.346Z"
   },
   {
    "duration": 328,
    "start_time": "2023-05-22T17:07:54.969Z"
   },
   {
    "duration": 126,
    "start_time": "2023-05-22T17:08:36.221Z"
   },
   {
    "duration": 4241,
    "start_time": "2023-05-22T17:09:01.201Z"
   },
   {
    "duration": 15,
    "start_time": "2023-05-22T17:09:09.277Z"
   },
   {
    "duration": 107,
    "start_time": "2023-05-22T17:09:16.713Z"
   },
   {
    "duration": 293,
    "start_time": "2023-05-22T17:09:19.945Z"
   },
   {
    "duration": 22,
    "start_time": "2023-05-22T17:09:24.694Z"
   },
   {
    "duration": 7,
    "start_time": "2023-05-22T17:09:27.013Z"
   },
   {
    "duration": 3,
    "start_time": "2023-05-22T17:09:34.498Z"
   },
   {
    "duration": 1830,
    "start_time": "2023-05-22T17:09:36.118Z"
   },
   {
    "duration": 4293,
    "start_time": "2023-05-22T17:09:46.737Z"
   },
   {
    "duration": 27459,
    "start_time": "2023-05-22T17:09:57.073Z"
   },
   {
    "duration": 251,
    "start_time": "2023-05-22T17:10:32.149Z"
   },
   {
    "duration": 1560,
    "start_time": "2023-05-22T17:13:00.022Z"
   },
   {
    "duration": 67,
    "start_time": "2023-05-22T17:13:01.584Z"
   },
   {
    "duration": 63,
    "start_time": "2023-05-22T17:13:01.653Z"
   },
   {
    "duration": 3,
    "start_time": "2023-05-22T17:13:01.857Z"
   },
   {
    "duration": 12,
    "start_time": "2023-05-22T17:13:02.225Z"
   },
   {
    "duration": 263,
    "start_time": "2023-05-22T17:13:02.621Z"
   },
   {
    "duration": 978,
    "start_time": "2023-05-22T17:13:05.845Z"
   },
   {
    "duration": 577,
    "start_time": "2023-05-22T17:13:07.019Z"
   },
   {
    "duration": 729,
    "start_time": "2023-05-22T17:13:09.442Z"
   },
   {
    "duration": 326,
    "start_time": "2023-05-22T17:13:10.173Z"
   },
   {
    "duration": 4952,
    "start_time": "2023-05-22T17:13:12.583Z"
   },
   {
    "duration": 25,
    "start_time": "2023-05-22T17:13:23.608Z"
   },
   {
    "duration": 333,
    "start_time": "2023-05-22T17:13:25.823Z"
   },
   {
    "duration": 8,
    "start_time": "2023-05-22T17:13:29.349Z"
   },
   {
    "duration": 6,
    "start_time": "2023-05-22T17:13:30.172Z"
   },
   {
    "duration": 4,
    "start_time": "2023-05-22T17:13:31.011Z"
   },
   {
    "duration": 731,
    "start_time": "2023-05-22T17:13:32.604Z"
   },
   {
    "duration": 13,
    "start_time": "2023-05-22T17:13:43.721Z"
   },
   {
    "duration": 429,
    "start_time": "2023-05-22T17:13:44.996Z"
   },
   {
    "duration": 11,
    "start_time": "2023-05-22T17:13:45.428Z"
   },
   {
    "duration": 9,
    "start_time": "2023-05-22T17:13:46.130Z"
   },
   {
    "duration": 4,
    "start_time": "2023-05-22T17:13:46.538Z"
   },
   {
    "duration": 342,
    "start_time": "2023-05-22T17:13:47.401Z"
   },
   {
    "duration": 1594,
    "start_time": "2023-05-22T17:13:59.023Z"
   },
   {
    "duration": 62,
    "start_time": "2023-05-22T17:14:00.619Z"
   },
   {
    "duration": 12,
    "start_time": "2023-05-22T17:14:00.683Z"
   },
   {
    "duration": 17,
    "start_time": "2023-05-22T17:14:00.697Z"
   },
   {
    "duration": 4,
    "start_time": "2023-05-22T17:14:00.965Z"
   },
   {
    "duration": 295,
    "start_time": "2023-05-22T17:14:01.407Z"
   },
   {
    "duration": 969,
    "start_time": "2023-05-22T17:14:03.290Z"
   },
   {
    "duration": 526,
    "start_time": "2023-05-22T17:14:04.260Z"
   },
   {
    "duration": 701,
    "start_time": "2023-05-22T17:14:05.445Z"
   },
   {
    "duration": 340,
    "start_time": "2023-05-22T17:14:06.149Z"
   },
   {
    "duration": 4938,
    "start_time": "2023-05-22T17:14:07.210Z"
   },
   {
    "duration": 108,
    "start_time": "2023-05-22T17:14:12.229Z"
   },
   {
    "duration": 301,
    "start_time": "2023-05-22T17:14:12.339Z"
   },
   {
    "duration": 7,
    "start_time": "2023-05-22T17:14:12.643Z"
   },
   {
    "duration": 6,
    "start_time": "2023-05-22T17:14:13.611Z"
   },
   {
    "duration": 2,
    "start_time": "2023-05-22T17:14:14.403Z"
   },
   {
    "duration": 196,
    "start_time": "2023-05-22T17:14:15.849Z"
   },
   {
    "duration": 872,
    "start_time": "2023-05-22T17:14:18.576Z"
   },
   {
    "duration": 1406,
    "start_time": "2023-05-22T17:14:21.329Z"
   },
   {
    "duration": 27,
    "start_time": "2023-05-22T17:14:33.111Z"
   },
   {
    "duration": 12,
    "start_time": "2023-05-22T17:18:49.159Z"
   },
   {
    "duration": 254,
    "start_time": "2023-05-22T17:18:51.061Z"
   },
   {
    "duration": 8,
    "start_time": "2023-05-22T17:18:52.607Z"
   },
   {
    "duration": 5,
    "start_time": "2023-05-22T17:18:53.576Z"
   },
   {
    "duration": 3,
    "start_time": "2023-05-22T17:18:54.673Z"
   },
   {
    "duration": 482,
    "start_time": "2023-05-22T17:18:56.647Z"
   },
   {
    "duration": 69,
    "start_time": "2023-05-22T17:19:07.296Z"
   },
   {
    "duration": 269,
    "start_time": "2023-05-22T17:19:07.844Z"
   },
   {
    "duration": 15,
    "start_time": "2023-05-22T17:19:08.245Z"
   },
   {
    "duration": 6,
    "start_time": "2023-05-22T17:19:09.061Z"
   },
   {
    "duration": 6,
    "start_time": "2023-05-22T17:19:09.597Z"
   },
   {
    "duration": 1086,
    "start_time": "2023-05-22T17:19:12.145Z"
   },
   {
    "duration": 1506,
    "start_time": "2023-05-22T17:19:26.260Z"
   },
   {
    "duration": 58,
    "start_time": "2023-05-22T17:19:27.768Z"
   },
   {
    "duration": 12,
    "start_time": "2023-05-22T17:19:27.828Z"
   },
   {
    "duration": 3,
    "start_time": "2023-05-22T17:19:28.043Z"
   },
   {
    "duration": 4,
    "start_time": "2023-05-22T17:19:28.443Z"
   },
   {
    "duration": 273,
    "start_time": "2023-05-22T17:19:28.956Z"
   },
   {
    "duration": 980,
    "start_time": "2023-05-22T17:19:31.603Z"
   },
   {
    "duration": 568,
    "start_time": "2023-05-22T17:19:32.585Z"
   },
   {
    "duration": 677,
    "start_time": "2023-05-22T17:19:33.903Z"
   },
   {
    "duration": 333,
    "start_time": "2023-05-22T17:19:34.674Z"
   },
   {
    "duration": 3421,
    "start_time": "2023-05-22T17:19:35.705Z"
   },
   {
    "duration": 10,
    "start_time": "2023-05-22T17:19:50.996Z"
   },
   {
    "duration": 261,
    "start_time": "2023-05-22T17:19:51.664Z"
   },
   {
    "duration": 7,
    "start_time": "2023-05-22T17:19:52.599Z"
   },
   {
    "duration": 6,
    "start_time": "2023-05-22T17:19:54.233Z"
   },
   {
    "duration": 3,
    "start_time": "2023-05-22T17:19:54.849Z"
   },
   {
    "duration": 37,
    "start_time": "2023-05-22T17:19:55.608Z"
   },
   {
    "duration": 119,
    "start_time": "2023-05-22T17:20:07.153Z"
   },
   {
    "duration": 305,
    "start_time": "2023-05-22T17:20:09.095Z"
   },
   {
    "duration": 11,
    "start_time": "2023-05-22T17:20:09.552Z"
   },
   {
    "duration": 8,
    "start_time": "2023-05-22T17:20:10.805Z"
   },
   {
    "duration": 3,
    "start_time": "2023-05-22T17:20:11.465Z"
   },
   {
    "duration": 517,
    "start_time": "2023-05-22T17:20:13.309Z"
   },
   {
    "duration": 1544,
    "start_time": "2023-05-22T17:21:56.143Z"
   },
   {
    "duration": 58,
    "start_time": "2023-05-22T17:21:57.690Z"
   },
   {
    "duration": 11,
    "start_time": "2023-05-22T17:21:57.750Z"
   },
   {
    "duration": 3,
    "start_time": "2023-05-22T17:21:57.785Z"
   },
   {
    "duration": 4,
    "start_time": "2023-05-22T17:21:58.178Z"
   },
   {
    "duration": 259,
    "start_time": "2023-05-22T17:21:58.656Z"
   },
   {
    "duration": 1004,
    "start_time": "2023-05-22T17:22:00.987Z"
   },
   {
    "duration": 603,
    "start_time": "2023-05-22T17:22:01.993Z"
   },
   {
    "duration": 655,
    "start_time": "2023-05-22T17:22:04.743Z"
   },
   {
    "duration": 356,
    "start_time": "2023-05-22T17:22:05.521Z"
   },
   {
    "duration": 2062,
    "start_time": "2023-05-22T17:22:06.869Z"
   },
   {
    "duration": 200,
    "start_time": "2023-05-22T17:22:08.934Z"
   },
   {
    "duration": 266,
    "start_time": "2023-05-22T17:22:12.653Z"
   },
   {
    "duration": 9,
    "start_time": "2023-05-22T17:22:14.761Z"
   },
   {
    "duration": 6,
    "start_time": "2023-05-22T17:22:15.352Z"
   },
   {
    "duration": 4,
    "start_time": "2023-05-22T17:22:16.685Z"
   },
   {
    "duration": 304,
    "start_time": "2023-05-22T17:22:18.324Z"
   },
   {
    "duration": 1090,
    "start_time": "2023-05-22T17:22:20.538Z"
   },
   {
    "duration": 2163,
    "start_time": "2023-05-22T17:22:24.876Z"
   },
   {
    "duration": 233055,
    "start_time": "2023-05-22T17:22:30.052Z"
   },
   {
    "duration": 9,
    "start_time": "2023-05-22T17:26:23.110Z"
   },
   {
    "duration": 27,
    "start_time": "2023-05-22T17:26:23.121Z"
   },
   {
    "duration": 5,
    "start_time": "2023-05-22T17:26:33.247Z"
   },
   {
    "duration": 8,
    "start_time": "2023-05-22T17:26:58.542Z"
   },
   {
    "duration": 1529,
    "start_time": "2023-05-22T17:29:11.943Z"
   },
   {
    "duration": 58,
    "start_time": "2023-05-22T17:29:13.474Z"
   },
   {
    "duration": 13,
    "start_time": "2023-05-22T17:29:13.534Z"
   },
   {
    "duration": 3,
    "start_time": "2023-05-22T17:29:13.549Z"
   },
   {
    "duration": 4,
    "start_time": "2023-05-22T17:29:13.785Z"
   },
   {
    "duration": 255,
    "start_time": "2023-05-22T17:29:14.160Z"
   },
   {
    "duration": 984,
    "start_time": "2023-05-22T17:29:15.943Z"
   },
   {
    "duration": 599,
    "start_time": "2023-05-22T17:29:16.929Z"
   },
   {
    "duration": 680,
    "start_time": "2023-05-22T17:29:18.016Z"
   },
   {
    "duration": 314,
    "start_time": "2023-05-22T17:29:18.865Z"
   },
   {
    "duration": 1780,
    "start_time": "2023-05-22T17:29:19.745Z"
   },
   {
    "duration": 132,
    "start_time": "2023-05-22T17:29:26.743Z"
   },
   {
    "duration": 308,
    "start_time": "2023-05-22T17:29:32.471Z"
   },
   {
    "duration": 23,
    "start_time": "2023-05-22T17:29:34.377Z"
   },
   {
    "duration": 7,
    "start_time": "2023-05-22T17:29:36.348Z"
   },
   {
    "duration": 3,
    "start_time": "2023-05-22T17:29:39.189Z"
   },
   {
    "duration": 1443,
    "start_time": "2023-05-22T17:29:40.984Z"
   },
   {
    "duration": 447,
    "start_time": "2023-05-22T17:31:36.621Z"
   },
   {
    "duration": 15,
    "start_time": "2023-05-22T17:31:37.398Z"
   },
   {
    "duration": 9,
    "start_time": "2023-05-22T17:31:38.103Z"
   },
   {
    "duration": 4,
    "start_time": "2023-05-22T17:31:38.542Z"
   },
   {
    "duration": 1910,
    "start_time": "2023-05-22T17:31:39.919Z"
   },
   {
    "duration": 4001,
    "start_time": "2023-05-22T17:31:42.025Z"
   },
   {
    "duration": 13998,
    "start_time": "2023-05-22T17:31:46.029Z"
   },
   {
    "duration": 96,
    "start_time": "2023-05-22T17:32:00.032Z"
   },
   {
    "duration": 388,
    "start_time": "2023-05-22T17:32:12.757Z"
   },
   {
    "duration": 11,
    "start_time": "2023-05-22T17:33:31.586Z"
   },
   {
    "duration": 1034,
    "start_time": "2023-05-22T17:33:38.903Z"
   },
   {
    "duration": 1829,
    "start_time": "2023-05-23T12:04:42.922Z"
   },
   {
    "duration": 132,
    "start_time": "2023-05-23T12:04:44.755Z"
   },
   {
    "duration": 12,
    "start_time": "2023-05-23T12:04:47.354Z"
   },
   {
    "duration": 3,
    "start_time": "2023-05-23T12:04:48.159Z"
   },
   {
    "duration": 5,
    "start_time": "2023-05-23T12:04:48.826Z"
   },
   {
    "duration": 264,
    "start_time": "2023-05-23T12:04:49.269Z"
   },
   {
    "duration": 1006,
    "start_time": "2023-05-23T12:04:52.419Z"
   },
   {
    "duration": 661,
    "start_time": "2023-05-23T12:04:55.186Z"
   },
   {
    "duration": 727,
    "start_time": "2023-05-23T12:05:00.742Z"
   },
   {
    "duration": 1843,
    "start_time": "2023-05-23T12:05:04.387Z"
   },
   {
    "duration": 149,
    "start_time": "2023-05-23T12:05:10.390Z"
   },
   {
    "duration": 278,
    "start_time": "2023-05-23T12:05:24.065Z"
   },
   {
    "duration": 25,
    "start_time": "2023-05-23T12:05:27.287Z"
   },
   {
    "duration": 7,
    "start_time": "2023-05-23T12:05:28.303Z"
   },
   {
    "duration": 3,
    "start_time": "2023-05-23T12:05:30.060Z"
   },
   {
    "duration": 1896,
    "start_time": "2023-05-23T12:05:31.738Z"
   },
   {
    "duration": 3751,
    "start_time": "2023-05-23T12:05:37.881Z"
   },
   {
    "duration": 6164,
    "start_time": "2023-05-23T12:05:44.794Z"
   },
   {
    "duration": 433,
    "start_time": "2023-05-23T12:05:58.986Z"
   },
   {
    "duration": 2101,
    "start_time": "2023-05-23T12:13:43.404Z"
   },
   {
    "duration": 56,
    "start_time": "2023-05-23T12:13:45.507Z"
   },
   {
    "duration": 12,
    "start_time": "2023-05-23T12:13:46.766Z"
   },
   {
    "duration": 3,
    "start_time": "2023-05-23T12:13:47.106Z"
   },
   {
    "duration": 4,
    "start_time": "2023-05-23T12:13:47.466Z"
   },
   {
    "duration": 259,
    "start_time": "2023-05-23T12:13:47.838Z"
   },
   {
    "duration": 883,
    "start_time": "2023-05-23T12:13:49.478Z"
   },
   {
    "duration": 532,
    "start_time": "2023-05-23T12:13:50.363Z"
   },
   {
    "duration": 679,
    "start_time": "2023-05-23T12:13:51.474Z"
   },
   {
    "duration": 1834,
    "start_time": "2023-05-23T12:13:52.996Z"
   },
   {
    "duration": 317,
    "start_time": "2023-05-23T12:13:54.833Z"
   },
   {
    "duration": 303,
    "start_time": "2023-05-23T12:13:55.153Z"
   },
   {
    "duration": 25,
    "start_time": "2023-05-23T12:13:55.458Z"
   },
   {
    "duration": 8,
    "start_time": "2023-05-23T12:13:56.030Z"
   },
   {
    "duration": 3,
    "start_time": "2023-05-23T12:13:56.449Z"
   },
   {
    "duration": 1544,
    "start_time": "2023-05-23T12:13:57.088Z"
   },
   {
    "duration": 3889,
    "start_time": "2023-05-23T12:13:58.635Z"
   },
   {
    "duration": 5714,
    "start_time": "2023-05-23T12:14:02.530Z"
   },
   {
    "duration": 1874066,
    "start_time": "2023-05-23T12:14:08.324Z"
   },
   {
    "duration": 8,
    "start_time": "2023-05-23T12:45:22.392Z"
   },
   {
    "duration": 1224,
    "start_time": "2023-05-23T12:45:22.402Z"
   },
   {
    "duration": 97,
    "start_time": "2023-05-23T12:45:23.628Z"
   },
   {
    "duration": 4798,
    "start_time": "2023-05-23T12:50:22.034Z"
   },
   {
    "duration": 39,
    "start_time": "2023-05-23T12:51:30.135Z"
   },
   {
    "duration": 2079,
    "start_time": "2023-05-23T14:06:12.441Z"
   },
   {
    "duration": 187,
    "start_time": "2023-05-23T14:06:14.523Z"
   },
   {
    "duration": 21,
    "start_time": "2023-05-23T14:06:14.721Z"
   },
   {
    "duration": 20,
    "start_time": "2023-05-23T14:06:14.745Z"
   },
   {
    "duration": 44,
    "start_time": "2023-05-23T14:06:14.767Z"
   },
   {
    "duration": 419,
    "start_time": "2023-05-23T14:06:14.940Z"
   },
   {
    "duration": 1171,
    "start_time": "2023-05-23T14:06:16.785Z"
   },
   {
    "duration": 729,
    "start_time": "2023-05-23T14:06:17.960Z"
   },
   {
    "duration": 807,
    "start_time": "2023-05-23T14:06:19.515Z"
   },
   {
    "duration": 6256,
    "start_time": "2023-05-23T14:06:23.550Z"
   },
   {
    "duration": 129,
    "start_time": "2023-05-23T14:06:31.295Z"
   },
   {
    "duration": 453,
    "start_time": "2023-05-23T14:06:37.240Z"
   },
   {
    "duration": 33,
    "start_time": "2023-05-23T14:06:38.790Z"
   },
   {
    "duration": 13,
    "start_time": "2023-05-23T14:06:40.370Z"
   },
   {
    "duration": 4,
    "start_time": "2023-05-23T14:06:41.121Z"
   },
   {
    "duration": 3890,
    "start_time": "2023-05-23T14:06:45.902Z"
   },
   {
    "duration": 5266,
    "start_time": "2023-05-23T14:06:52.611Z"
   },
   {
    "duration": 6643,
    "start_time": "2023-05-23T14:07:00.366Z"
   },
   {
    "duration": 2178417,
    "start_time": "2023-05-23T14:07:13.298Z"
   },
   {
    "duration": 17,
    "start_time": "2023-05-23T14:43:31.718Z"
   },
   {
    "duration": 1047,
    "start_time": "2023-05-23T14:43:31.738Z"
   },
   {
    "duration": 340,
    "start_time": "2023-05-23T14:43:32.790Z"
   },
   {
    "duration": 95,
    "start_time": "2023-05-23T16:16:35.978Z"
   },
   {
    "duration": 1731,
    "start_time": "2023-05-23T16:17:34.146Z"
   },
   {
    "duration": 1796,
    "start_time": "2023-05-23T16:17:47.476Z"
   },
   {
    "duration": 147,
    "start_time": "2023-05-23T16:19:48.194Z"
   },
   {
    "duration": 102,
    "start_time": "2023-05-23T16:20:05.388Z"
   },
   {
    "duration": 68,
    "start_time": "2023-05-23T16:20:18.693Z"
   },
   {
    "duration": 96,
    "start_time": "2023-05-23T16:20:29.993Z"
   },
   {
    "duration": 1674,
    "start_time": "2023-05-23T16:20:43.665Z"
   },
   {
    "duration": 118,
    "start_time": "2023-05-23T16:20:45.341Z"
   },
   {
    "duration": 13,
    "start_time": "2023-05-23T16:20:45.460Z"
   },
   {
    "duration": 2,
    "start_time": "2023-05-23T16:20:45.476Z"
   },
   {
    "duration": 4,
    "start_time": "2023-05-23T16:20:45.661Z"
   },
   {
    "duration": 256,
    "start_time": "2023-05-23T16:20:46.073Z"
   },
   {
    "duration": 976,
    "start_time": "2023-05-23T16:20:47.973Z"
   },
   {
    "duration": 573,
    "start_time": "2023-05-23T16:20:48.952Z"
   },
   {
    "duration": 678,
    "start_time": "2023-05-23T16:20:51.069Z"
   },
   {
    "duration": 1895,
    "start_time": "2023-05-23T16:20:54.186Z"
   },
   {
    "duration": 212,
    "start_time": "2023-05-23T16:20:56.172Z"
   },
   {
    "duration": 302,
    "start_time": "2023-05-23T16:20:58.554Z"
   },
   {
    "duration": 25,
    "start_time": "2023-05-23T16:20:59.597Z"
   },
   {
    "duration": 9,
    "start_time": "2023-05-23T16:21:02.184Z"
   },
   {
    "duration": 3,
    "start_time": "2023-05-23T16:21:04.253Z"
   },
   {
    "duration": 1334,
    "start_time": "2023-05-23T16:21:05.444Z"
   },
   {
    "duration": 4382,
    "start_time": "2023-05-23T16:21:07.391Z"
   },
   {
    "duration": 6295,
    "start_time": "2023-05-23T16:21:11.777Z"
   },
   {
    "duration": 979,
    "start_time": "2023-05-23T16:21:57.593Z"
   },
   {
    "duration": 885,
    "start_time": "2023-05-23T16:22:06.991Z"
   },
   {
    "duration": 690,
    "start_time": "2023-05-23T16:22:19.485Z"
   },
   {
    "duration": 781,
    "start_time": "2023-05-23T16:22:33.196Z"
   },
   {
    "duration": 1242,
    "start_time": "2023-05-23T16:23:11.648Z"
   },
   {
    "duration": 710,
    "start_time": "2023-05-23T16:23:28.967Z"
   },
   {
    "duration": 1167,
    "start_time": "2023-05-23T16:23:45.614Z"
   },
   {
    "duration": 897,
    "start_time": "2023-05-23T16:24:15.583Z"
   },
   {
    "duration": 793,
    "start_time": "2023-05-23T16:24:26.883Z"
   },
   {
    "duration": 856,
    "start_time": "2023-05-23T16:25:10.216Z"
   },
   {
    "duration": 1135,
    "start_time": "2023-05-23T16:25:26.154Z"
   },
   {
    "duration": 813,
    "start_time": "2023-05-23T16:25:37.763Z"
   },
   {
    "duration": 8,
    "start_time": "2023-05-23T16:25:42.052Z"
   },
   {
    "duration": 5,
    "start_time": "2023-05-23T16:26:38.877Z"
   },
   {
    "duration": 1696,
    "start_time": "2023-05-23T16:26:47.794Z"
   },
   {
    "duration": 60,
    "start_time": "2023-05-23T16:26:49.492Z"
   },
   {
    "duration": 17,
    "start_time": "2023-05-23T16:26:49.553Z"
   },
   {
    "duration": 3,
    "start_time": "2023-05-23T16:26:49.819Z"
   },
   {
    "duration": 5,
    "start_time": "2023-05-23T16:26:50.293Z"
   },
   {
    "duration": 279,
    "start_time": "2023-05-23T16:26:50.697Z"
   },
   {
    "duration": 1016,
    "start_time": "2023-05-23T16:26:52.413Z"
   },
   {
    "duration": 590,
    "start_time": "2023-05-23T16:26:53.432Z"
   },
   {
    "duration": 694,
    "start_time": "2023-05-23T16:26:54.478Z"
   },
   {
    "duration": 2519,
    "start_time": "2023-05-23T16:26:56.562Z"
   },
   {
    "duration": 210,
    "start_time": "2023-05-23T16:26:59.173Z"
   },
   {
    "duration": 27,
    "start_time": "2023-05-23T16:27:05.097Z"
   },
   {
    "duration": 303,
    "start_time": "2023-05-23T16:27:07.155Z"
   },
   {
    "duration": 27,
    "start_time": "2023-05-23T16:27:07.495Z"
   },
   {
    "duration": 9,
    "start_time": "2023-05-23T16:27:08.102Z"
   },
   {
    "duration": 4,
    "start_time": "2023-05-23T16:27:08.807Z"
   },
   {
    "duration": 1157,
    "start_time": "2023-05-23T16:27:09.721Z"
   },
   {
    "duration": 3917,
    "start_time": "2023-05-23T16:27:12.662Z"
   },
   {
    "duration": 5427,
    "start_time": "2023-05-23T16:27:18.355Z"
   },
   {
    "duration": 5165,
    "start_time": "2023-05-23T16:27:30.012Z"
   },
   {
    "duration": 1579,
    "start_time": "2023-05-23T16:27:54.606Z"
   },
   {
    "duration": 60,
    "start_time": "2023-05-23T16:27:56.187Z"
   },
   {
    "duration": 14,
    "start_time": "2023-05-23T16:27:56.249Z"
   },
   {
    "duration": 22,
    "start_time": "2023-05-23T16:27:56.265Z"
   },
   {
    "duration": 4,
    "start_time": "2023-05-23T16:27:56.586Z"
   },
   {
    "duration": 272,
    "start_time": "2023-05-23T16:27:56.976Z"
   },
   {
    "duration": 983,
    "start_time": "2023-05-23T16:27:58.706Z"
   },
   {
    "duration": 1622,
    "start_time": "2023-05-23T16:28:07.171Z"
   },
   {
    "duration": 62,
    "start_time": "2023-05-23T16:28:08.795Z"
   },
   {
    "duration": 14,
    "start_time": "2023-05-23T16:28:08.859Z"
   },
   {
    "duration": 62,
    "start_time": "2023-05-23T16:28:08.876Z"
   },
   {
    "duration": 28,
    "start_time": "2023-05-23T16:28:08.940Z"
   },
   {
    "duration": 328,
    "start_time": "2023-05-23T16:28:08.970Z"
   },
   {
    "duration": 965,
    "start_time": "2023-05-23T16:28:09.300Z"
   },
   {
    "duration": 553,
    "start_time": "2023-05-23T16:28:10.268Z"
   },
   {
    "duration": 701,
    "start_time": "2023-05-23T16:28:10.824Z"
   },
   {
    "duration": 2352,
    "start_time": "2023-05-23T16:28:11.528Z"
   },
   {
    "duration": 155,
    "start_time": "2023-05-23T16:28:13.973Z"
   },
   {
    "duration": 344,
    "start_time": "2023-05-23T16:28:14.129Z"
   },
   {
    "duration": 19,
    "start_time": "2023-05-23T16:28:14.475Z"
   },
   {
    "duration": 6,
    "start_time": "2023-05-23T16:28:14.496Z"
   },
   {
    "duration": 9,
    "start_time": "2023-05-23T16:28:14.504Z"
   },
   {
    "duration": 958,
    "start_time": "2023-05-23T16:28:14.514Z"
   },
   {
    "duration": 3302,
    "start_time": "2023-05-23T16:28:15.474Z"
   },
   {
    "duration": 3104,
    "start_time": "2023-05-23T16:28:18.779Z"
   },
   {
    "duration": 1010949,
    "start_time": "2023-05-23T16:28:21.885Z"
   },
   {
    "duration": 10,
    "start_time": "2023-05-23T16:45:12.836Z"
   },
   {
    "duration": 1724,
    "start_time": "2023-05-23T16:45:12.847Z"
   },
   {
    "duration": 1580,
    "start_time": "2023-05-23T17:27:26.905Z"
   },
   {
    "duration": 67,
    "start_time": "2023-05-23T17:27:28.488Z"
   },
   {
    "duration": 15,
    "start_time": "2023-05-23T17:27:28.561Z"
   },
   {
    "duration": 16,
    "start_time": "2023-05-23T17:27:28.577Z"
   },
   {
    "duration": 37,
    "start_time": "2023-05-23T17:27:28.594Z"
   },
   {
    "duration": 316,
    "start_time": "2023-05-23T17:27:28.633Z"
   },
   {
    "duration": 998,
    "start_time": "2023-05-23T17:27:28.951Z"
   },
   {
    "duration": 600,
    "start_time": "2023-05-23T17:27:29.952Z"
   },
   {
    "duration": 740,
    "start_time": "2023-05-23T17:27:30.555Z"
   },
   {
    "duration": 5084,
    "start_time": "2023-05-23T17:27:31.298Z"
   },
   {
    "duration": 299,
    "start_time": "2023-05-23T17:27:36.384Z"
   },
   {
    "duration": 315,
    "start_time": "2023-05-23T17:27:36.684Z"
   },
   {
    "duration": 31,
    "start_time": "2023-05-23T17:27:37.001Z"
   },
   {
    "duration": 10,
    "start_time": "2023-05-23T17:27:37.035Z"
   },
   {
    "duration": 27,
    "start_time": "2023-05-23T17:27:37.047Z"
   },
   {
    "duration": 1306,
    "start_time": "2023-05-23T17:27:37.076Z"
   },
   {
    "duration": 3395,
    "start_time": "2023-05-23T17:27:38.386Z"
   },
   {
    "duration": 5591,
    "start_time": "2023-05-23T17:27:41.783Z"
   },
   {
    "duration": 1952293,
    "start_time": "2023-05-23T17:27:47.376Z"
   },
   {
    "duration": 10,
    "start_time": "2023-05-23T18:00:19.670Z"
   },
   {
    "duration": 4396,
    "start_time": "2023-05-23T18:00:19.681Z"
   }
  ],
  "kernelspec": {
   "display_name": "Python 3 (ipykernel)",
   "language": "python",
   "name": "python3"
  },
  "language_info": {
   "codemirror_mode": {
    "name": "ipython",
    "version": 3
   },
   "file_extension": ".py",
   "mimetype": "text/x-python",
   "name": "python",
   "nbconvert_exporter": "python",
   "pygments_lexer": "ipython3",
   "version": "3.9.13"
  },
  "toc": {
   "base_numbering": 1,
   "nav_menu": {},
   "number_sections": true,
   "sideBar": true,
   "skip_h1_title": true,
   "title_cell": "Содержание",
   "title_sidebar": "Contents",
   "toc_cell": true,
   "toc_position": {
    "height": "calc(100% - 180px)",
    "left": "10px",
    "top": "150px",
    "width": "260.188px"
   },
   "toc_section_display": true,
   "toc_window_display": false
  }
 },
 "nbformat": 4,
 "nbformat_minor": 2
}
